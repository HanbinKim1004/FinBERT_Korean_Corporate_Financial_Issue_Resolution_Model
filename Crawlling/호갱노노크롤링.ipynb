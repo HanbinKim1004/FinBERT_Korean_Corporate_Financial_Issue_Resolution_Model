{
 "cells": [
  {
   "cell_type": "code",
   "execution_count": 1,
   "metadata": {},
   "outputs": [],
   "source": [
    "#정보요청 라이브러리 import\n",
    "import requests\n",
    "\n",
    "#크롤링 라이브러리 import\n",
    "from bs4 import BeautifulSoup \n",
    "\n",
    "#셀레늄 라이브러리 불러오기\n",
    "from selenium import webdriver\n",
    "\n",
    "from selenium.webdriver.chrome.service import Service\n",
    "from webdriver_manager.chrome import ChromeDriverManager\n",
    "\n",
    "#셀레늄에서 html문서가 생성될 때까지 대기하는 함수 불러오기\n",
    "from selenium.webdriver.support.ui import WebDriverWait\n",
    "\n",
    "#셀레늄에서 조건을 걸어줄 수 있는 함수 불러오기\n",
    "from selenium.webdriver.support import expected_conditions as EC\n",
    "from selenium.webdriver.common.by import By\n",
    "\n",
    "import pandas as pd\n",
    "import re\n",
    "import time\n",
    "import random"
   ]
  },
  {
   "cell_type": "code",
   "execution_count": 2,
   "metadata": {},
   "outputs": [],
   "source": [
    "#User-Agent 지정\n",
    "headers = {'User-Agent' : 'Mozilla/5.0 (Windows NT 10.0; Win64; x64) AppleWebKit/537.36 (KHTML, like Gecko) Chrome/103.0.0.0 Safari/537.36'}"
   ]
  },
  {
   "cell_type": "code",
   "execution_count": 3,
   "metadata": {},
   "outputs": [],
   "source": [
    "# URL 설정 \n",
    "URL = 'https://hogangnono.com/'"
   ]
  },
  {
   "cell_type": "code",
   "execution_count": 4,
   "metadata": {},
   "outputs": [
    {
     "name": "stdout",
     "output_type": "stream",
     "text": [
      "\n"
     ]
    }
   ],
   "source": [
    "#드라이버 객체 생성\n",
    "browser = webdriver.Chrome(service = Service(ChromeDriverManager().install()))\n",
    "browser.get(URL)"
   ]
  },
  {
   "cell_type": "markdown",
   "metadata": {},
   "source": [
    "### 로그인"
   ]
  },
  {
   "cell_type": "code",
   "execution_count": 5,
   "metadata": {},
   "outputs": [],
   "source": [
    "login__ = '//*[@id=\"container\"]/div[3]/a'"
   ]
  },
  {
   "cell_type": "code",
   "execution_count": 7,
   "metadata": {},
   "outputs": [],
   "source": [
    "browser.find_element(by = By.XPATH, value = login__).click()"
   ]
  },
  {
   "cell_type": "code",
   "execution_count": null,
   "metadata": {},
   "outputs": [],
   "source": [
    "kakao_login__ = '//*[@id=\"react-root\"]/div/div[2]/div[2]/div/div/div/a[2]'"
   ]
  },
  {
   "cell_type": "code",
   "execution_count": null,
   "metadata": {},
   "outputs": [],
   "source": [
    "browser.find_element(by = By.XPATH, value = kakao_login__).click()"
   ]
  },
  {
   "cell_type": "markdown",
   "metadata": {},
   "source": [
    "### 아파트 명칭 검색"
   ]
  },
  {
   "cell_type": "code",
   "execution_count": 23,
   "metadata": {},
   "outputs": [],
   "source": [
    "apt_list = ['위례그린파크 푸르지오']\n",
    "search_key = '//*[@id=\"container\"]/div[2]/fieldset/div/div[1]/input'"
   ]
  },
  {
   "cell_type": "code",
   "execution_count": 24,
   "metadata": {},
   "outputs": [],
   "source": [
    "browser.find_element(by = By.XPATH, value = search_key).send_keys(apt_list[0]) #아파트 이름 누르기\n",
    "browser.find_element(by = By.XPATH, value = search_key).send_keys('\\n') # enter누르기"
   ]
  },
  {
   "cell_type": "markdown",
   "metadata": {},
   "source": [
    "### 검색결과 내 아파트 선택 "
   ]
  },
  {
   "cell_type": "code",
   "execution_count": 25,
   "metadata": {},
   "outputs": [],
   "source": [
    "apt_search__ = '//*[@id=\"container\"]/div[4]/div/div/div[1]/div/ul/li[{apt_search_num}]/a'.format(apt_search_num = 1) # 임의로 1 설정 \n",
    "browser.find_element(by = By.XPATH, value = apt_search__).click()"
   ]
  },
  {
   "cell_type": "markdown",
   "metadata": {},
   "source": [
    "### 리뷰 버튼 클릭 "
   ]
  },
  {
   "cell_type": "code",
   "execution_count": 122,
   "metadata": {},
   "outputs": [
    {
     "name": "stdout",
     "output_type": "stream",
     "text": [
      "322\n"
     ]
    }
   ],
   "source": [
    "# '//*[@id=\"container\"]/div[4]/div/div/fieldset/div[4]/ul/li[2]/button'\n",
    "apt_review_button = '//*[@id=\"container\"]/div[4]/div/div/fieldset/div[4]/ul/li[3]/a'\n",
    "review_count = browser.find_element(by = By.XPATH, value = apt_review_button).text\n",
    "browser.find_element(by = By.XPATH, value = apt_review_button).click()\n",
    "\n",
    "print(review_count)"
   ]
  },
  {
   "cell_type": "markdown",
   "metadata": {},
   "source": [
    "### 아이디 "
   ]
  },
  {
   "cell_type": "code",
   "execution_count": 18,
   "metadata": {},
   "outputs": [],
   "source": [
    "nickname__ = '//*[@id=\"container\"]/div[4]/div[2]/div[2]/div/div[1]/div/div[3]/div[1]/div[1]/span[1]'\n",
    "hash_id__ = '//*[@id=\"container\"]/div[4]/div[2]/div[2]/div/div[1]/div/div[3]/div[1]/div[1]/span[2]'\n",
    "review__ = '//*[@id=\"container\"]/div[4]/div[2]/div[2]/div/div[1]/div/div[3]/div[1]/div[2]'\n",
    "\n",
    "nickname = browser.find_element(by = By.XPATH, value = nickname__).text\n",
    "hash_id = browser.find_element(by = By.XPATH, value = hash_id__).text\n",
    "review = browser.find_element(by = By.XPATH, value = review__).text\n",
    "\n",
    "print(nickname)\n",
    "print(hash_id)\n",
    "print(review)"
   ]
  },
  {
   "cell_type": "code",
   "execution_count": 157,
   "metadata": {},
   "outputs": [],
   "source": [
    "def scroll(modal):\n",
    "    try:        \n",
    "        # 스크롤 높이 받아오기\n",
    "        last_height = browser.execute_script(\"return arguments[0].scrollHeight\", modal)\n",
    "        while True:\n",
    "            pause_time = random.uniform(0.5, 0.8)\n",
    "            # 최하단까지 스크롤\n",
    "            browser.execute_script(\"arguments[0].scrollTo(0, arguments[0].scrollHeight);\", modal)\n",
    "            # 페이지 로딩 대기\n",
    "            time.sleep(pause_time)\n",
    "            # 무한 스크롤 동작을 위해 살짝 위로 스크롤\n",
    "            browser.execute_script(\"arguments[0].scrollTo(0, arguments[0].scrollHeight-50);\", modal)\n",
    "            time.sleep(pause_time)\n",
    "            # 스크롤 높이 새롭게 받아오기\n",
    "            new_height = browser.execute_script(\"return arguments[0].scrollHeight\", modal)\n",
    "            try:\n",
    "                # '더보기' 버튼 있을 경우 클릭\n",
    "                all_review_button = browser.find_element(by = By.XPATH, value = more_see).click()\n",
    "            except:\n",
    "                # 스크롤 완료 경우\n",
    "                if new_height == last_height:\n",
    "                    print(\"스크롤 완료\")\n",
    "                    break\n",
    "                last_height = new_height\n",
    "    except: \n",
    "        pass"
   ]
  },
  {
   "cell_type": "code",
   "execution_count": 158,
   "metadata": {},
   "outputs": [
    {
     "name": "stdout",
     "output_type": "stream",
     "text": [
      "스크롤 완료\n"
     ]
    }
   ],
   "source": [
    "modal = WebDriverWait(browser, 2).until(EC.element_to_be_clickable((By.XPATH, \"//div[@class='css-1poz24i scroll-content']\")))\n",
    "scroll(modal)"
   ]
  },
  {
   "cell_type": "markdown",
   "metadata": {},
   "source": [
    "### 최종 리뷰 크롤링"
   ]
  },
  {
   "cell_type": "code",
   "execution_count": 160,
   "metadata": {},
   "outputs": [
    {
     "name": "stderr",
     "output_type": "stream",
     "text": [
      "100%|█████████▉| 321/322 [03:04<00:00,  1.74it/s]\n"
     ]
    },
    {
     "ename": "NoSuchElementException",
     "evalue": "Message: no such element: Unable to locate element: {\"method\":\"xpath\",\"selector\":\"//*[@id=\"container\"]/div[4]/div[2]/div[2]/div[1]/div[1]/div/div[324]/div[1]/div[1]/span[1]\"}\n  (Session info: chrome=106.0.5249.119)\nStacktrace:\nBacktrace:\n\tOrdinal0 [0x00B51ED3+2236115]\n\tOrdinal0 [0x00AE92F1+1807089]\n\tOrdinal0 [0x009F66FD+812797]\n\tOrdinal0 [0x00A255DF+1005023]\n\tOrdinal0 [0x00A257CB+1005515]\n\tOrdinal0 [0x00A57632+1209906]\n\tOrdinal0 [0x00A41AD4+1120980]\n\tOrdinal0 [0x00A559E2+1202658]\n\tOrdinal0 [0x00A418A6+1120422]\n\tOrdinal0 [0x00A1A73D+960317]\n\tOrdinal0 [0x00A1B71F+964383]\n\tGetHandleVerifier [0x00DFE7E2+2743074]\n\tGetHandleVerifier [0x00DF08D4+2685972]\n\tGetHandleVerifier [0x00BE2BAA+532202]\n\tGetHandleVerifier [0x00BE1990+527568]\n\tOrdinal0 [0x00AF080C+1837068]\n\tOrdinal0 [0x00AF4CD8+1854680]\n\tOrdinal0 [0x00AF4DC5+1854917]\n\tOrdinal0 [0x00AFED64+1895780]\n\tBaseThreadInitThunk [0x76BB6739+25]\n\tRtlGetFullPathName_UEx [0x77C98FD2+1218]\n\tRtlGetFullPathName_UEx [0x77C98F9D+1165]\n",
     "output_type": "error",
     "traceback": [
      "\u001b[1;31m---------------------------------------------------------------------------\u001b[0m",
      "\u001b[1;31mNoSuchElementException\u001b[0m                    Traceback (most recent call last)",
      "\u001b[1;32m<ipython-input-160-1559f4f78bc4>\u001b[0m in \u001b[0;36m<module>\u001b[1;34m\u001b[0m\n\u001b[0;32m     13\u001b[0m \u001b[1;33m\u001b[0m\u001b[0m\n\u001b[1;32m---> 14\u001b[1;33m         \u001b[0mnickname\u001b[0m \u001b[1;33m=\u001b[0m \u001b[0mbrowser\u001b[0m\u001b[1;33m.\u001b[0m\u001b[0mfind_element\u001b[0m\u001b[1;33m(\u001b[0m\u001b[0mby\u001b[0m \u001b[1;33m=\u001b[0m \u001b[0mBy\u001b[0m\u001b[1;33m.\u001b[0m\u001b[0mXPATH\u001b[0m\u001b[1;33m,\u001b[0m \u001b[0mvalue\u001b[0m \u001b[1;33m=\u001b[0m \u001b[0mnickname__\u001b[0m\u001b[1;33m)\u001b[0m\u001b[1;33m.\u001b[0m\u001b[0mtext\u001b[0m\u001b[1;33m\u001b[0m\u001b[1;33m\u001b[0m\u001b[0m\n\u001b[0m\u001b[0;32m     15\u001b[0m         \u001b[0mhash_id\u001b[0m \u001b[1;33m=\u001b[0m \u001b[0mbrowser\u001b[0m\u001b[1;33m.\u001b[0m\u001b[0mfind_element\u001b[0m\u001b[1;33m(\u001b[0m\u001b[0mby\u001b[0m \u001b[1;33m=\u001b[0m \u001b[0mBy\u001b[0m\u001b[1;33m.\u001b[0m\u001b[0mXPATH\u001b[0m\u001b[1;33m,\u001b[0m \u001b[0mvalue\u001b[0m \u001b[1;33m=\u001b[0m \u001b[0mhash_id__\u001b[0m\u001b[1;33m)\u001b[0m\u001b[1;33m.\u001b[0m\u001b[0mtext\u001b[0m\u001b[1;33m\u001b[0m\u001b[1;33m\u001b[0m\u001b[0m\n",
      "\u001b[1;32m~\\anaconda3\\lib\\site-packages\\selenium\\webdriver\\remote\\webdriver.py\u001b[0m in \u001b[0;36mfind_element\u001b[1;34m(self, by, value)\u001b[0m\n\u001b[0;32m   1243\u001b[0m \u001b[1;33m\u001b[0m\u001b[0m\n\u001b[1;32m-> 1244\u001b[1;33m         return self.execute(Command.FIND_ELEMENT, {\n\u001b[0m\u001b[0;32m   1245\u001b[0m             \u001b[1;34m'using'\u001b[0m\u001b[1;33m:\u001b[0m \u001b[0mby\u001b[0m\u001b[1;33m,\u001b[0m\u001b[1;33m\u001b[0m\u001b[1;33m\u001b[0m\u001b[0m\n",
      "\u001b[1;32m~\\anaconda3\\lib\\site-packages\\selenium\\webdriver\\remote\\webdriver.py\u001b[0m in \u001b[0;36mexecute\u001b[1;34m(self, driver_command, params)\u001b[0m\n\u001b[0;32m    423\u001b[0m         \u001b[1;32mif\u001b[0m \u001b[0mresponse\u001b[0m\u001b[1;33m:\u001b[0m\u001b[1;33m\u001b[0m\u001b[1;33m\u001b[0m\u001b[0m\n\u001b[1;32m--> 424\u001b[1;33m             \u001b[0mself\u001b[0m\u001b[1;33m.\u001b[0m\u001b[0merror_handler\u001b[0m\u001b[1;33m.\u001b[0m\u001b[0mcheck_response\u001b[0m\u001b[1;33m(\u001b[0m\u001b[0mresponse\u001b[0m\u001b[1;33m)\u001b[0m\u001b[1;33m\u001b[0m\u001b[1;33m\u001b[0m\u001b[0m\n\u001b[0m\u001b[0;32m    425\u001b[0m             response['value'] = self._unwrap_value(\n",
      "\u001b[1;32m~\\anaconda3\\lib\\site-packages\\selenium\\webdriver\\remote\\errorhandler.py\u001b[0m in \u001b[0;36mcheck_response\u001b[1;34m(self, response)\u001b[0m\n\u001b[0;32m    246\u001b[0m             \u001b[1;32mraise\u001b[0m \u001b[0mexception_class\u001b[0m\u001b[1;33m(\u001b[0m\u001b[0mmessage\u001b[0m\u001b[1;33m,\u001b[0m \u001b[0mscreen\u001b[0m\u001b[1;33m,\u001b[0m \u001b[0mstacktrace\u001b[0m\u001b[1;33m,\u001b[0m \u001b[0malert_text\u001b[0m\u001b[1;33m)\u001b[0m  \u001b[1;31m# type: ignore[call-arg]  # mypy is not smart enough here\u001b[0m\u001b[1;33m\u001b[0m\u001b[1;33m\u001b[0m\u001b[0m\n\u001b[1;32m--> 247\u001b[1;33m         \u001b[1;32mraise\u001b[0m \u001b[0mexception_class\u001b[0m\u001b[1;33m(\u001b[0m\u001b[0mmessage\u001b[0m\u001b[1;33m,\u001b[0m \u001b[0mscreen\u001b[0m\u001b[1;33m,\u001b[0m \u001b[0mstacktrace\u001b[0m\u001b[1;33m)\u001b[0m\u001b[1;33m\u001b[0m\u001b[1;33m\u001b[0m\u001b[0m\n\u001b[0m\u001b[0;32m    248\u001b[0m \u001b[1;33m\u001b[0m\u001b[0m\n",
      "\u001b[1;31mNoSuchElementException\u001b[0m: Message: no such element: Unable to locate element: {\"method\":\"xpath\",\"selector\":\"//*[@id=\"container\"]/div[4]/div[2]/div[2]/div/div[1]/div/div[324]/div[1]/div[1]/span[1]\"}\n  (Session info: chrome=106.0.5249.119)\nStacktrace:\nBacktrace:\n\tOrdinal0 [0x00B51ED3+2236115]\n\tOrdinal0 [0x00AE92F1+1807089]\n\tOrdinal0 [0x009F66FD+812797]\n\tOrdinal0 [0x00A255DF+1005023]\n\tOrdinal0 [0x00A257CB+1005515]\n\tOrdinal0 [0x00A57632+1209906]\n\tOrdinal0 [0x00A41AD4+1120980]\n\tOrdinal0 [0x00A559E2+1202658]\n\tOrdinal0 [0x00A418A6+1120422]\n\tOrdinal0 [0x00A1A73D+960317]\n\tOrdinal0 [0x00A1B71F+964383]\n\tGetHandleVerifier [0x00DFE7E2+2743074]\n\tGetHandleVerifier [0x00DF08D4+2685972]\n\tGetHandleVerifier [0x00BE2BAA+532202]\n\tGetHandleVerifier [0x00BE1990+527568]\n\tOrdinal0 [0x00AF080C+1837068]\n\tOrdinal0 [0x00AF4CD8+1854680]\n\tOrdinal0 [0x00AF4DC5+1854917]\n\tOrdinal0 [0x00AFED64+1895780]\n\tBaseThreadInitThunk [0x76BB6739+25]\n\tRtlGetFullPathName_UEx [0x77C98FD2+1218]\n\tRtlGetFullPathName_UEx [0x77C98F9D+1165]\n",
      "\nDuring handling of the above exception, another exception occurred:\n",
      "\u001b[1;31mNoSuchElementException\u001b[0m                    Traceback (most recent call last)",
      "\u001b[1;32m<ipython-input-160-1559f4f78bc4>\u001b[0m in \u001b[0;36m<module>\u001b[1;34m\u001b[0m\n\u001b[0;32m     32\u001b[0m \u001b[1;33m\u001b[0m\u001b[0m\n\u001b[0;32m     33\u001b[0m \u001b[1;33m\u001b[0m\u001b[0m\n\u001b[1;32m---> 34\u001b[1;33m         \u001b[0mnickname\u001b[0m \u001b[1;33m=\u001b[0m \u001b[0mbrowser\u001b[0m\u001b[1;33m.\u001b[0m\u001b[0mfind_element\u001b[0m\u001b[1;33m(\u001b[0m\u001b[0mby\u001b[0m \u001b[1;33m=\u001b[0m \u001b[0mBy\u001b[0m\u001b[1;33m.\u001b[0m\u001b[0mXPATH\u001b[0m\u001b[1;33m,\u001b[0m \u001b[0mvalue\u001b[0m \u001b[1;33m=\u001b[0m \u001b[0mnickname__\u001b[0m\u001b[1;33m)\u001b[0m\u001b[1;33m.\u001b[0m\u001b[0mtext\u001b[0m\u001b[1;33m\u001b[0m\u001b[1;33m\u001b[0m\u001b[0m\n\u001b[0m\u001b[0;32m     35\u001b[0m         \u001b[0mhash_id\u001b[0m \u001b[1;33m=\u001b[0m \u001b[0mbrowser\u001b[0m\u001b[1;33m.\u001b[0m\u001b[0mfind_element\u001b[0m\u001b[1;33m(\u001b[0m\u001b[0mby\u001b[0m \u001b[1;33m=\u001b[0m \u001b[0mBy\u001b[0m\u001b[1;33m.\u001b[0m\u001b[0mXPATH\u001b[0m\u001b[1;33m,\u001b[0m \u001b[0mvalue\u001b[0m \u001b[1;33m=\u001b[0m \u001b[0mhash_id__\u001b[0m\u001b[1;33m)\u001b[0m\u001b[1;33m.\u001b[0m\u001b[0mtext\u001b[0m\u001b[1;33m\u001b[0m\u001b[1;33m\u001b[0m\u001b[0m\n\u001b[0;32m     36\u001b[0m         \u001b[0mreview\u001b[0m \u001b[1;33m=\u001b[0m \u001b[0mbrowser\u001b[0m\u001b[1;33m.\u001b[0m\u001b[0mfind_element\u001b[0m\u001b[1;33m(\u001b[0m\u001b[0mby\u001b[0m \u001b[1;33m=\u001b[0m \u001b[0mBy\u001b[0m\u001b[1;33m.\u001b[0m\u001b[0mXPATH\u001b[0m\u001b[1;33m,\u001b[0m \u001b[0mvalue\u001b[0m \u001b[1;33m=\u001b[0m \u001b[0mreview__\u001b[0m\u001b[1;33m)\u001b[0m\u001b[1;33m.\u001b[0m\u001b[0mtext\u001b[0m\u001b[1;33m\u001b[0m\u001b[1;33m\u001b[0m\u001b[0m\n",
      "\u001b[1;32m~\\anaconda3\\lib\\site-packages\\selenium\\webdriver\\remote\\webdriver.py\u001b[0m in \u001b[0;36mfind_element\u001b[1;34m(self, by, value)\u001b[0m\n\u001b[0;32m   1242\u001b[0m             \u001b[0mvalue\u001b[0m \u001b[1;33m=\u001b[0m \u001b[1;34m'[name=\"%s\"]'\u001b[0m \u001b[1;33m%\u001b[0m \u001b[0mvalue\u001b[0m\u001b[1;33m\u001b[0m\u001b[1;33m\u001b[0m\u001b[0m\n\u001b[0;32m   1243\u001b[0m \u001b[1;33m\u001b[0m\u001b[0m\n\u001b[1;32m-> 1244\u001b[1;33m         return self.execute(Command.FIND_ELEMENT, {\n\u001b[0m\u001b[0;32m   1245\u001b[0m             \u001b[1;34m'using'\u001b[0m\u001b[1;33m:\u001b[0m \u001b[0mby\u001b[0m\u001b[1;33m,\u001b[0m\u001b[1;33m\u001b[0m\u001b[1;33m\u001b[0m\u001b[0m\n\u001b[0;32m   1246\u001b[0m             'value': value})['value']\n",
      "\u001b[1;32m~\\anaconda3\\lib\\site-packages\\selenium\\webdriver\\remote\\webdriver.py\u001b[0m in \u001b[0;36mexecute\u001b[1;34m(self, driver_command, params)\u001b[0m\n\u001b[0;32m    422\u001b[0m         \u001b[0mresponse\u001b[0m \u001b[1;33m=\u001b[0m \u001b[0mself\u001b[0m\u001b[1;33m.\u001b[0m\u001b[0mcommand_executor\u001b[0m\u001b[1;33m.\u001b[0m\u001b[0mexecute\u001b[0m\u001b[1;33m(\u001b[0m\u001b[0mdriver_command\u001b[0m\u001b[1;33m,\u001b[0m \u001b[0mparams\u001b[0m\u001b[1;33m)\u001b[0m\u001b[1;33m\u001b[0m\u001b[1;33m\u001b[0m\u001b[0m\n\u001b[0;32m    423\u001b[0m         \u001b[1;32mif\u001b[0m \u001b[0mresponse\u001b[0m\u001b[1;33m:\u001b[0m\u001b[1;33m\u001b[0m\u001b[1;33m\u001b[0m\u001b[0m\n\u001b[1;32m--> 424\u001b[1;33m             \u001b[0mself\u001b[0m\u001b[1;33m.\u001b[0m\u001b[0merror_handler\u001b[0m\u001b[1;33m.\u001b[0m\u001b[0mcheck_response\u001b[0m\u001b[1;33m(\u001b[0m\u001b[0mresponse\u001b[0m\u001b[1;33m)\u001b[0m\u001b[1;33m\u001b[0m\u001b[1;33m\u001b[0m\u001b[0m\n\u001b[0m\u001b[0;32m    425\u001b[0m             response['value'] = self._unwrap_value(\n\u001b[0;32m    426\u001b[0m                 response.get('value', None))\n",
      "\u001b[1;32m~\\anaconda3\\lib\\site-packages\\selenium\\webdriver\\remote\\errorhandler.py\u001b[0m in \u001b[0;36mcheck_response\u001b[1;34m(self, response)\u001b[0m\n\u001b[0;32m    245\u001b[0m                 \u001b[0malert_text\u001b[0m \u001b[1;33m=\u001b[0m \u001b[0mvalue\u001b[0m\u001b[1;33m[\u001b[0m\u001b[1;34m'alert'\u001b[0m\u001b[1;33m]\u001b[0m\u001b[1;33m.\u001b[0m\u001b[0mget\u001b[0m\u001b[1;33m(\u001b[0m\u001b[1;34m'text'\u001b[0m\u001b[1;33m)\u001b[0m\u001b[1;33m\u001b[0m\u001b[1;33m\u001b[0m\u001b[0m\n\u001b[0;32m    246\u001b[0m             \u001b[1;32mraise\u001b[0m \u001b[0mexception_class\u001b[0m\u001b[1;33m(\u001b[0m\u001b[0mmessage\u001b[0m\u001b[1;33m,\u001b[0m \u001b[0mscreen\u001b[0m\u001b[1;33m,\u001b[0m \u001b[0mstacktrace\u001b[0m\u001b[1;33m,\u001b[0m \u001b[0malert_text\u001b[0m\u001b[1;33m)\u001b[0m  \u001b[1;31m# type: ignore[call-arg]  # mypy is not smart enough here\u001b[0m\u001b[1;33m\u001b[0m\u001b[1;33m\u001b[0m\u001b[0m\n\u001b[1;32m--> 247\u001b[1;33m         \u001b[1;32mraise\u001b[0m \u001b[0mexception_class\u001b[0m\u001b[1;33m(\u001b[0m\u001b[0mmessage\u001b[0m\u001b[1;33m,\u001b[0m \u001b[0mscreen\u001b[0m\u001b[1;33m,\u001b[0m \u001b[0mstacktrace\u001b[0m\u001b[1;33m)\u001b[0m\u001b[1;33m\u001b[0m\u001b[1;33m\u001b[0m\u001b[0m\n\u001b[0m\u001b[0;32m    248\u001b[0m \u001b[1;33m\u001b[0m\u001b[0m\n\u001b[0;32m    249\u001b[0m     \u001b[1;32mdef\u001b[0m \u001b[0m_value_or_default\u001b[0m\u001b[1;33m(\u001b[0m\u001b[0mself\u001b[0m\u001b[1;33m,\u001b[0m \u001b[0mobj\u001b[0m\u001b[1;33m:\u001b[0m \u001b[0mMapping\u001b[0m\u001b[1;33m[\u001b[0m\u001b[0m_KT\u001b[0m\u001b[1;33m,\u001b[0m \u001b[0m_VT\u001b[0m\u001b[1;33m]\u001b[0m\u001b[1;33m,\u001b[0m \u001b[0mkey\u001b[0m\u001b[1;33m:\u001b[0m \u001b[0m_KT\u001b[0m\u001b[1;33m,\u001b[0m \u001b[0mdefault\u001b[0m\u001b[1;33m:\u001b[0m \u001b[0m_VT\u001b[0m\u001b[1;33m)\u001b[0m \u001b[1;33m->\u001b[0m \u001b[0m_VT\u001b[0m\u001b[1;33m:\u001b[0m\u001b[1;33m\u001b[0m\u001b[1;33m\u001b[0m\u001b[0m\n",
      "\u001b[1;31mNoSuchElementException\u001b[0m: Message: no such element: Unable to locate element: {\"method\":\"xpath\",\"selector\":\"//*[@id=\"container\"]/div[4]/div[2]/div[2]/div[1]/div[1]/div/div[324]/div[1]/div[1]/span[1]\"}\n  (Session info: chrome=106.0.5249.119)\nStacktrace:\nBacktrace:\n\tOrdinal0 [0x00B51ED3+2236115]\n\tOrdinal0 [0x00AE92F1+1807089]\n\tOrdinal0 [0x009F66FD+812797]\n\tOrdinal0 [0x00A255DF+1005023]\n\tOrdinal0 [0x00A257CB+1005515]\n\tOrdinal0 [0x00A57632+1209906]\n\tOrdinal0 [0x00A41AD4+1120980]\n\tOrdinal0 [0x00A559E2+1202658]\n\tOrdinal0 [0x00A418A6+1120422]\n\tOrdinal0 [0x00A1A73D+960317]\n\tOrdinal0 [0x00A1B71F+964383]\n\tGetHandleVerifier [0x00DFE7E2+2743074]\n\tGetHandleVerifier [0x00DF08D4+2685972]\n\tGetHandleVerifier [0x00BE2BAA+532202]\n\tGetHandleVerifier [0x00BE1990+527568]\n\tOrdinal0 [0x00AF080C+1837068]\n\tOrdinal0 [0x00AF4CD8+1854680]\n\tOrdinal0 [0x00AF4DC5+1854917]\n\tOrdinal0 [0x00AFED64+1895780]\n\tBaseThreadInitThunk [0x76BB6739+25]\n\tRtlGetFullPathName_UEx [0x77C98FD2+1218]\n\tRtlGetFullPathName_UEx [0x77C98F9D+1165]\n"
     ]
    }
   ],
   "source": [
    "from tqdm import tqdm\n",
    "\n",
    "total_review_dict = {}\n",
    "pause_time = random.uniform(0.5, 0.8)\n",
    "\n",
    "for i in tqdm(range(int(review_count))):\n",
    "    review_dict = {}\n",
    "    try: \n",
    "        try:\n",
    "            nickname__  = '//*[@id=\"container\"]/div[4]/div[2]/div[2]/div/div[1]/div/div[{num}]/div[1]/div[1]/span[1]'.format(num = i+3)\n",
    "            hash_id__   = '//*[@id=\"container\"]/div[4]/div[2]/div[2]/div/div[1]/div/div[{num}]/div[1]/div[1]/span[2]'.format(num = i+3)\n",
    "            review__    = '//*[@id=\"container\"]/div[4]/div[2]/div[2]/div/div[1]/div/div[{num}]/div[1]/div[2]'.format(num = i+3)\n",
    "\n",
    "            nickname = browser.find_element(by = By.XPATH, value = nickname__).text\n",
    "            hash_id = browser.find_element(by = By.XPATH, value = hash_id__).text\n",
    "            review = browser.find_element(by = By.XPATH, value = review__).text\n",
    "\n",
    "            if review[-3:] == '더보기':\n",
    "                browser.find_element(by = By.XPATH, value = review__+'/a').click()\n",
    "                time.sleep(pause_time)\n",
    "                review = browser.find_element(by = By.XPATH, value = review__).text\n",
    "\n",
    "            review_dict['nickname'] = nickname\n",
    "            review_dict['hash_id'] = hash_id\n",
    "            review_dict['review'] = review\n",
    "\n",
    "\n",
    "        except:\n",
    "            nickname__  = '//*[@id=\"container\"]/div[4]/div[2]/div[2]/div[1]/div[1]/div/div[{num}]/div[1]/div[1]/span[1]'.format(num = i+3)\n",
    "            hash_id__   = '//*[@id=\"container\"]/div[4]/div[2]/div[2]/div[1]/div[1]/div/div[{num}]/div[1]/div[1]/span[2]'.format(num = i+3)\n",
    "            review__    = '//*[@id=\"container\"]/div[4]/div[2]/div[2]/div[1]/div[1]/div/div[{num}]/div[1]/div[2]'.format(num = i+3)\n",
    "\n",
    "\n",
    "            nickname = browser.find_element(by = By.XPATH, value = nickname__).text\n",
    "            hash_id = browser.find_element(by = By.XPATH, value = hash_id__).text\n",
    "            review = browser.find_element(by = By.XPATH, value = review__).text\n",
    "\n",
    "            if review[-3:] == '더보기':\n",
    "                time.sleep(pause_time)\n",
    "                browser.find_element(by = By.XPATH, value = str(review__)+'/a').click()\n",
    "                time.sleep(pause_time)\n",
    "                review = browser.find_element(by = By.XPATH, value = review__).text\n",
    "\n",
    "\n",
    "            review_dict['nickname'] = nickname\n",
    "            review_dict['hash_id'] = hash_id\n",
    "            review_dict['review'] = review\n",
    "\n",
    "\n",
    "        total_review_dict['review_'+str(i)] = review_dict\n",
    "    except: \n",
    "        pass"
   ]
  },
  {
   "cell_type": "code",
   "execution_count": 161,
   "metadata": {},
   "outputs": [
    {
     "data": {
      "text/plain": [
       "{'nickname': '부가비',\n",
       " 'hash_id': '2JSW5dd',\n",
       " 'review': '궁금한 점이 있습니다\\n\\n단지가 하남과 성남으로 나뉜다고 들었는데 \\n제가 아는게 맞는걸까요? 그러면 초등학교나\\n중학교도 나뉘는 건가요?\\n \\n정말 좋은 단지 같아서\\n살고 싶은 마음에 여쭤봅니다'}"
      ]
     },
     "execution_count": 161,
     "metadata": {},
     "output_type": "execute_result"
    }
   ],
   "source": [
    "total_review_dict['review_1']"
   ]
  },
  {
   "cell_type": "markdown",
   "metadata": {},
   "source": [
    "### json 저장"
   ]
  },
  {
   "cell_type": "code",
   "execution_count": 162,
   "metadata": {},
   "outputs": [],
   "source": [
    "import os\n",
    "import json\n",
    "\n",
    "file_path = os.getcwd()\n",
    "file_name = '\\\\apt_review_dict'\n",
    "\n",
    "with open(file_path+file_name, 'w') as outfile:\n",
    "    json.dump(total_review_dict, outfile, indent=4)"
   ]
  },
  {
   "cell_type": "markdown",
   "metadata": {},
   "source": [
    "### json 열기"
   ]
  },
  {
   "cell_type": "code",
   "execution_count": 163,
   "metadata": {},
   "outputs": [
    {
     "name": "stdout",
     "output_type": "stream",
     "text": [
      "{'review_0': {'nickname': '하이하이', 'hash_id': 'nXL9696', 'review': '좋아요!'}, 'review_1': {'nickname': '부가비', 'hash_id': '2JSW5dd', 'review': '궁금한 점이 있습니다\\n\\n단지가 하남과 성남으로 나뉜다고 들었는데 \\n제가 아는게 맞는걸까요? 그러면 초등학교나\\n중학교도 나뉘는 건가요?\\n \\n정말 좋은 단지 같아서\\n살고 싶은 마음에 여쭤봅니다'}, 'review_2': {'nickname': 'Greenlight', 'hash_id': '2d6Fa3b', 'review': '아파트 부근에 위치한 개천에서 느낄수 있는\\n평화롭고 아름다운 늦여름의 정취.'}, 'review_3': {'nickname': 'Skwksidod', 'hash_id': 'aGjw543', 'review': '버스 타고 들어오는 데 다소 시간은 걸리지만, 큰 차도와 떨어져있어 공기가 맑고 조용한 것이 아주 마음에 듭니다. \\n퇴근하고 오면 퇴근한 느낌이 확실히 들어요.'}, 'review_4': {'nickname': 'dream', 'hash_id': '52bH4ac', 'review': '방3개 구조에서 2주방을 방으로 변경하고 싶은데\\n복잡할까요?\\n경험 있으신분들 조언 부탁드립니다'}, 'review_5': {'nickname': '0726383', 'hash_id': 'mtDcc90', 'review': '산책 하기도 좋고 공기도 맑고 너무 살기 좋아요'}, 'review_6': {'nickname': 'Ruru', 'hash_id': 'ugdD1c5', 'review': '산이 옆에 있어 공기좋고 조용해요\\n등산 하기도 좋아요 조경도 넘 잘되어있구요'}, 'review_7': {'nickname': '2**9', 'hash_id': 'tC8yfd0', 'review': '매일 등산할 수 있고 아침에 새소리가 들려요 숲속에 사는거같아 너무 좋아요'}, 'review_8': {'nickname': '초록초록그린파크', 'hash_id': 'mYScb01', 'review': '아파트 이름처럼 조경이 너무 잘되어있습니다.\\n남한산성도 바로뒤에있어서 가볍게 등산다녀오기도 너무 좋은 집이에요. \\n봄에는 꽃향기때문에 문만 열어두고있어도 행복해집니다.\\n입주할때부터 살았는데 계속 쭉 살고싶은집이에요.😀😆'}, 'review_9': {'nickname': 'ㅇㅇ', 'hash_id': 'sBte059', 'review': '2016년부터 입주하여 살고있습니다. \\n차 없으면 교통은 아직 그래도 좀 불편하지만, 거주하기에는 정말 좋습니다. 조경,커뮤니티 시설, 쾌적하고 조용한 환경, 안전 모두 좋음.'}, 'review_10': {'nickname': 'Sjo2021', 'hash_id': 'hnD12e8', 'review': '이사온지 일년 쯤 되어가요. 그간 출퇴근을 주로 자차 이용하던 편이라 대중교통 정보는 별생각 없이 이사왔는데 살다보니 아파트 앞 버스정류장 노선이 다양하고 좋네요.\\n\\n요즘은 신설 남위례역 생기면서 잠실 코엑스 출퇴근 쾌적하게 다니고 있어요. 얼마전 업무 차 강남역 갔을 때도 명동, 광화문 갔을 때도 검색해보니 집 바로 앞까지 한번에 오는  ****-****  버스가 있어서 좀 놀랐습니다. \\n\\n아파트 바로 앞에서 8호선 순환버스도 다니고, 5호선 거여마천 이용 편리하게 북위례 길도 뚫려서 \\n점점 교통이 더 편해지는게 실제 대중교통 이용해보면 느껴져요. \\n\\n트램 위례신사선 그런 좀더 큰 미래 호재들 위주로 듣다보니 현재 교통이 불편한 줄 알고 계시는 분들께 참고 될까해서 제 경험 공유해 봅니다.'}, 'review_11': {'nickname': 'chase', 'hash_id': 'foenc6e', 'review': '12동 13동 앞에 워터해저드가 있던데, 이것으로 인해 모기나 냄새발생 될까요?'}, 'review_12': {'nickname': 'Ygygpk', 'hash_id': 'rEvh972', 'review': '자차가 있다면 위치 전망 모두 좋습니다.\\n교통편도 많이 개선됐구요'}, 'review_13': {'nickname': 'ㅇㅇㅇ', 'hash_id': 'imoQ5b2', 'review': '산이 가까이에 있어 좋다. 교통이 불편하다'}, 'review_14': {'nickname': 'DoYourBest', 'hash_id': 'iFIqb75', 'review': '산 밑에라 공기도 좋고 주변 편의 시설들도 즐 되어있어요.'}, 'review_15': {'nickname': '135800468099', 'hash_id': '2vPD884', 'review': '거래절벽인 이 시기에 신고가 찍는 곳이 찐이죠.'}, 'review_16': {'nickname': '그린좋아', 'hash_id': 'ooV039a', 'review': '대설이네요~~ㅎ;;;;\\n저녁에 운전하고 들어올땐 엄청 고생했는데 ㅡ.ㅡ;;\\n이렇게 소복이 예쁘게 쌓인거보니 힐링이~^^;;\\n위례그린파크푸르지오의 눈 내리는 정원뷰입니다~♡\\n뷰 함께 감상하시고,\\n눈 때문에 오늘 고생한거 잠시 잊어보세요~~ㅋ'}, 'review_17': {'nickname': '거주자', 'hash_id': '2lcJbf7', 'review': '드디어 지하철 개통 이네요~~\\n12월말에 트램도 착공하고~'}, 'review_18': {'nickname': 'Claire', 'hash_id': 'pXQx332', 'review': '🙆\\u200d♀️좋은점 : 아파트내 공원이 잘 되어있고 남한산성 올라가는 길도 잘되어있고 주차도 편리하고 좋다.\\n공기가 확실히 좋다. 동간 거리가 넓어서 좋음\\n🙅\\u200d♀️나쁜점 : 층간소음 있음 (생각보다 물소리 떨어뜨리는소리 진동소리 음악소리 이런거 잘들림..)\\n주차 2대 이상 등록후 사용인데 외부차량 엄청 많음 지하1층은 주차 엄청 협소 \\n상가 구성이 잘 갖춰있지 않고.. 대부분 부동산!\\n금연아파트인데도 불구하고 흡연 많이하고 특히 동 사이의 미니 공원에서 술먹고 담배피고 하능 소리 좀 심함 특히 여름..'}, 'review_19': {'nickname': 'liyaem', 'hash_id': 'boYre01', 'review': '석양에 빛나는 그린파크푸르지오 아파트.\\n유명한 국립공원 산을 내려다 보고 있으니 넓은 콘도에 사는듯한 청량감마저 듭니다.\\n그린파크 콘도로 휴가 오세요.\\n대치동에서 7분 거리 랍니다.'}, 'review_20': {'nickname': '그린좋아', 'hash_id': 'ooV039a', 'review': '위례그린파크푸르지오\\nUZ센타 앞쪽에서 찍은 단지내 뷰와,\\n카페더그린을 내려다보며 찍은 정원 뷰,\\n아파트 후문에서 올라오는 길에\\n남한산성 청량산 단풍 뷰 입니다~~^^\\n\\n최상의 환경 속에서 안전하게 아이를 키울수 있고,\\n가족의 건강과 화목을 도모할 수 있는데\\n이정도면 그린파크 이웃들은 복 받았다고 해도\\n과언이 아니겠네요~ㅋ\\n\\n저 산 뷰와 아파트 내 뷰 좀 보세요\\n마치 물감을 풀어놓은것 같죠~^^'}, 'review_21': {'nickname': '그린좋아', 'hash_id': 'ooV039a', 'review': '위례그린파크푸르지오 뒷산은 참 남다르죠 ^.~\\n마구마구 자랑하고 싶은 숲세권 뷰 랍니다~ㅋ'}, 'review_22': {'nickname': 'Amelica', 'hash_id': 'boYre01', 'review': '비오는 늦가을의 안개낀 산과 아파트.\\n그린파크푸르지오의 신선한 공기와 촉촉한 풍경을 찍어 봤습니다.'}, 'review_23': {'nickname': '규규규', 'hash_id': 'pRpg777', 'review': '장점: 숲세권, 남한산성뷰\\n단점: 위례 중심지랑은 거리가 있음'}, 'review_24': {'nickname': '0**6', 'hash_id': 'a0be278', 'review': '주차가 궁금합니디ㅡ\\n밤늦게 들어와도 자리가 있나요?'}, 'review_25': {'nickname': '0726383', 'hash_id': 'mtDcc90', 'review': '넘 이뻐요!!!'}, 'review_26': {'nickname': '노래쟁이', 'hash_id': 'kVOdc0', 'review': '골프장도 역시 재개한다는 좋은 소식 들리네요.\\n\\n이제 나쁜 중개인들 골프장으로 후려치기 하지 마세요.\\n\\n\\n진짜 혼납니다!!!'}, 'review_27': {'nickname': '거주자', 'hash_id': '2lcJbf7', 'review': 'http://m.hanamilbo.com/.../articleView.html\\n\\n곧 골프장 다시 문 열 준비 하겠네요~~\\n...더보기'}, 'review_28': {'nickname': '가을길', 'hash_id': '2lcJbf7', 'review': '아이들 학교가는 길에 가을이 왔네요.ㅎㅎ\\n유해시설 전무하고 학교도 가깝고 상가도 걸어서 5분이면 갑니다.^^ 아이들 정서에 좋은 단지입니다.'}, 'review_29': {'nickname': '2**9', 'hash_id': 'pPLI9eb', 'review': '산이 바로 뒤에 있어서 공기도 좋고 뷰는 뭐 말할 것도 없이 좋고, 버스 정류장이 가까이있어서 타기도 편하고 좋네요 차로 몇 분 이내에 스타필드도 있고 조용하게 살기 좋아요'}, 'review_30': {'nickname': 'fox1746', 'hash_id': 'pMN6255', 'review': '공기좋고 한적해서 살기좋아요,, 남한산성 산책로와 연결되어있어 매일 산보중입니다,,'}, 'review_31': {'nickname': '그린좋아', 'hash_id': 'ooV039a', 'review': '구름이 낀 흐린 하늘도\\n그린파크푸르지오와 잘 어우러져\\n한 폭의 그림 같네요~^^\\n퇴근길에 그린파크 아파트를 바라보면\\n감탄과 탄성이 절로 나와서\\n저도 모르게 카메라를 찾게 됩니다\\n그리고~\\n집에서도 남한산성 청량산 위의 달빛을 감상하다가\\n그윽하고 오묘한 달빛에 취해\\n또다시 핸드폰카메라에 담아봤습니다\\n함께 감상해보세요~????'}, 'review_32': {'nickname': 'reali', 'hash_id': 'faUKc07', 'review': '산책로도 잘 되어있고 다른 위례 아파트보다 한적하고 뷰가 좋아요!'}, 'review_33': {'nickname': '우이례', 'hash_id': 'pnwZ3cd', 'review': '대중교통 이용하는건 불편하지만 나머지는 다 좋습니다.'}, 'review_34': {'nickname': 'green', 'hash_id': '2lcJbf7', 'review': '가을 하늘이 너무 좋네요.\\n단지 산책하면 힐링이 됩니다.^^'}, 'review_35': {'nickname': 'flided', 'hash_id': '1Dqu3f5', 'review': '단지내 유즈센터에 골프연습장이 있어요.\\n8개 라인에, 스크린분석 라인도 있고, 라인과 별도로 스크린골프룸도 있습니다. 요즘 같은 골프 대세 시즌에 단지 내에서 무료로 연습할 수 있어서 좋아요.'}, 'review_36': {'nickname': '그린파크주민', 'hash_id': 'dmVS782', 'review': '거주 만족도가 높아서 그런지 부동산 가격이 오르건 말건 신경이 안쓰이네요.\\n오늘도 멋진 풍경과 맑은 공기..너무 좋네요.'}, 'review_37': {'nickname': 'diekdj', 'hash_id': '1Dqu3f5', 'review': '전기차 충전시설이 매우 넉넉합니다.\\n완속 6대에 급속 2대가 전용으로 있어서 충전 스트레스가 없어요.\\n기둥에 있는 220V형 방식은 곳곳에 있구요.\\n\\n소형 단지들은 주차대수 1.2대 전후에, 전기차 충전시설이 몇개 없어서 내년부터 의무화로 전기차 충전면수 더 내어줘야 하면 주차가 더 힘들겠지만 그린팍푸르지오는 주차와 전기차 충전에서는 천국에 가까워요 :)'}, 'review_38': {'nickname': '그린좋아', 'hash_id': 'nAne559', 'review': '청량산숲속  자리잡은 친환경아파트~\\n근데  위례중앙역 도보12분~\\n서울 어디에  이런 아파트 또 있을까요 ~~^^\\n정말  만족합니당~~♡'}, 'review_39': {'nickname': 'Pollaud', 'hash_id': 'boYre01', 'review': '그린파크 푸르지오 아파트의 공기가 느므 좋더군요.\\n창에 먼지가 없어요.'}, 'review_40': {'nickname': '파란하늘', 'hash_id': 'oSDgbea', 'review': '남한산성을 품은 청량산의 사계와 새소리 물소리를 들으며 생활하는 놀라운 경험을 맛보고 살고있다. 단지조경도 너무 잘 되어있고, 남한산성을 오르는 등산로가 바로 단지옆이여서 주말마다 가벼운 산행도 가능해서 너무좋다. 멀리 떠나지 않아도 강원도 리조트에 와 있는 듯 하다. 비내리면 펼쳐지는 청량산의 물안개에 한겨울 내린 눈덮인 산풍경은 한폭의 거대한 그림을 걸쳐 놓은 감동을 얻게된다.'}, 'review_41': {'nickname': 'jk4611', 'hash_id': 'bTNd665', 'review': '녹지조성이 잘되어있습니다!'}, 'review_42': {'nickname': '3**7', 'hash_id': 'odn1f26', 'review': '삶에 질이 높은 아름다운 미래형아파트'}, 'review_43': {'nickname': 'cugio', 'hash_id': 'boYre01', 'review': '태릉 골프장 이전이 성남GC로 오는건가요.'}, 'review_44': {'nickname': '노래쟁이', 'hash_id': 'kVOdc0', 'review': '매일 아침 이런 뷰를 보고 산다면...?'}, 'review_45': {'nickname': '토끼', 'hash_id': 'oCIG4b3', 'review': '[시티뉴스] 하남, 학암동 ‘성남골프장’ 존치 청신호\\n - ****'}, 'review_46': {'nickname': 'Cogio', 'hash_id': 'boYre01', 'review': '위례그린파크 푸르지오가 위례에선 가장 부티나는 아파트더군요.\\n와서 살아보니 정말 감탄해요.\\n집들이 찾아온 지인들이 맨션 이라나요...ㅎㅎ\\n시원한 동간 간격에 놀라고 갔답니다.\\n지하  주차 공간이 넓은데 놀라더군요.'}, 'review_47': {'nickname': '미카엘', 'hash_id': 'nAne559', 'review': '위례 숨은 보석 ~~♡\\n골프장뷰 ~  남한한성뷰~\\n끝내줍니당~'}, 'review_48': {'nickname': '노래쟁이', 'hash_id': 'kVOdc0', 'review': '위례 입주민들 모두가 입모아 인정하는 위례 최고 부촌 아파트입니다.'}, 'review_49': {'nickname': '그린파크골프장 존치', 'hash_id': '2lcJbf7', 'review': 'http://m.ctnews.co.kr/34541\\n\\n골프장 존치~\\n그린파크 위례 대장 자리 다시 찾아야죠!\\n트램과 위신선은 시간이 해결해 줄 것...더보기'}, 'review_50': {'nickname': '남당어부', 'hash_id': 'mJhzbb7', 'review': '교통대책이 안나옴.. 위례트램 유찰 위신선무소식.. 그 외는 좋음.. 내년 남한산성 야간조망하면 이쁠거같구.. 동네도 쾌적하고 다 좋음. 출근러만 고생하면 온가족이 행복쓰'}, 'review_51': {'nickname': '도레미1', 'hash_id': 'idNU175', 'review': '평소 야근이 잦아 늦게 퇴근하는데, 주차공간이 항상 여유있고 광폭주차장이라 주차스트레스 전혀없습니다~'}, 'review_52': {'nickname': '그린좋아', 'hash_id': 'ooV039a', 'review': '파란 하늘, 푸른 숲, 맑은 공기, 시원한 바람, 새 소리까지~????\\n도시에 있는 아파트들 중\\n이런걸 보고 느낄 수 있는곳이 또 있을까요?\\n저 모든걸 집에서 맘껏 즐기고 힐링하는 중입니당~ㅋ\\n아흐~~ 넘 좋아요~~~^^\\n삶의 질도, 만족도도 굿굿~♡'}, 'review_53': {'nickname': '뚜루루', 'hash_id': '34IIb52', 'review': '18억 거래되었다는 소문이 사실이었군요\\n호갱에 올라왔네요\\n축하합니다'}, 'review_54': {'nickname': '기블리', 'hash_id': '3k036a3', 'review': '주차장이랑 문주부터 너무 고급스럽습니다\\n조경도 진짜 어디 골프리조트같아요. \\n집에 올때마다 호캉스 오는 기분이네요'}, 'review_55': {'nickname': '파크랜드', 'hash_id': '2lcJbf7', 'review': '아파트 실거주 만족도가 최고 높은 단지!\\n조경과 환경이 깨끗한 단지인데\\n저가 매물(진짜인지 가짜인지..) 적정 시세를 낮추고 있네요.\\n계속 이렇게 냅두면 가치 회복이 힘들지 않을까요?\\n\\n18억 실거래는 언제쯤 신고 하실지 궁금합니다.\\n적정 가격의 거래가 계속 되어야 실제 가치도 올라간다고 봅니다.'}, 'review_56': {'nickname': '미카엘라', 'hash_id': 'nAne559', 'review': '청량산좋고\\n조용하고\\n골프장 뷰  라인은   위례 최고  명품입니다~~^^'}, 'review_57': {'nickname': '민짱준짱', 'hash_id': 'i1IL9d6', 'review': '공기도 좋고, 아름다운 조경이며, 뒷산을 산책삼아 오르내리고 하니 건강도 좋아지고 게다가 편의시설도 적당한 거리에 있으니 너무 만족스럽습니다'}, 'review_58': {'nickname': '2003', 'hash_id': 'ehSoc0c', 'review': '가을장마가 지나고 오늘은 문을 열고 밖을 보니 날씨가 참 좋네요\\n얼마전 골프장에 차량두대가 들어오길래 봤더니 측량을 하고 있는것 같아 보였어요\\n골프장 활용에 대해 알고계신분 있으신가요?'}, 'review_59': {'nickname': '토끼', 'hash_id': 'oCIG4b3', 'review': '이사온지 어느덧 두달이 되어갑니다\\n모든 아파트 편의시설도 잘되어있고 늘 여행온 맘으로 살고있어요'}, 'review_60': {'nickname': '파이프맨', 'hash_id': 'ooEi919', 'review': '골프장뷰, 산퓨도 좋지만 단지조경뷰도 좋아요 저희집에서 찍은 사진입니다'}, 'review_61': {'nickname': '도레미파', 'hash_id': '34IIb52', 'review': '그린파크 이제 서서히 제자리 찾아갑니다\\n서울 어디에도 없는 골프장뷰와 청량산을 눈앞에 볼 수 있는 아파트는 그린파크밖에 없습니다'}, 'review_62': {'nickname': '135800468099', 'hash_id': '2vPD884', 'review': '그린파크에 주민들이 올린 사진들보면 타단지와는 확실히 다름이 느껴짐. 타단지에서 좋다고 올리는 뷰사진들이 그린파크에서는 평범수준이고... 그린파크 골프장뷰, 산뷰는 그야말로 위례 탑이고 넘사벽'}, 'review_63': {'nickname': '135800468099', 'hash_id': '2vPD884', 'review': '그린파크 18억 거래완료 방금 거래한 부동산과 통화하여 확인했으니 다른 부동산분들 모르는일이다 그럴리없다 등등 소리 하지도 마시길~~'}, 'review_64': {'nickname': 'BangBang', 'hash_id': 'oCxr6fa', 'review': '자연과 벗하며 도시의  문화생활을 함께 즐길수 있는곳이라 생각 합니다.  사계절과 아침 저녁의 시간의 흐름도  함께 느끼며 살고 있습니다.'}, 'review_65': {'nickname': '알럽펭수', 'hash_id': '5vUBcac', 'review': '아빠와 딸은 아침산책중~^^'}, 'review_66': {'nickname': '135800468099', 'hash_id': '2vPD884', 'review': '역시 16짜리는 칼같이 실거래 초고속 올리네요. 18짜리는 꽉채워 올리는 떡방들 클래스.'}, 'review_67': {'nickname': '미카엘라', 'hash_id': 'nAne559', 'review': '그린파크  39평인데  지인분들 집에 와서\\n보시고  40평 훨씬 넘어보인다고들하세요~\\n그리고  주부들이 필요한  수납공간 구석구석\\n참 많아서 좋아요\\n문득  집안일하다가  거실밖 청량산푸르름\\n너무 좋구요~'}, 'review_68': {'nickname': '135800468099', 'hash_id': '2vPD884', 'review': '6513동 18억 실거래 되었다고 하네요. 조만간 실거래 올라올듯합니다. 참고하세요.'}, 'review_69': {'nickname': '그린파크 좋아', 'hash_id': 'ooVh9f9', 'review': '맑고 깨끗한 공기와 청량한 새소리가 더없이 아름다운 곳이예요. 저녁 산책을 할 때면 리조트에 온 듯 마음에 평화가 생기곤 해요.  아파트에서 남한산성으로 가는 길은 잘 정비가 되어 있고 벚나무가 즐비해서 봄이면 저절로 노래가 나오는 허밍웨이예요. ~\\n 평형보다 더 넓은 공간 구성, 안방과 이어진 넓은 알파룸과 부엌의 팬트리, 인접한 스타필드와 항아리 상권, 우수한 초중고 학군...아주 만족하고 있어요~'}, 'review_70': {'nickname': '미카', 'hash_id': 'nAne559', 'review': '청량산 아침 새소리에 잠을깨요~\\n맑은공기 덤이구요 ㅎ\\n위례중앙역  스타필드 장지천  창곡천  어디든\\n도보가능하구요\\n자연과함께  정서적으로 마음따뜻한  아이로\\n키울수있을것 같아요~\\n당연 위례초중고  학군좋구요~'}, 'review_71': {'nickname': '기블리', 'hash_id': '3k036a3', 'review': '카메라 들게 만드는 아파트네요\\n\\n꽤 넓은 개인세대창고를 주니까\\n안 그래도 구조 넓어 잘빠진 집 더 넓어보이고\\n집구경오면 39평 안 같다고 다들 놀래요.'}, 'review_72': {'nickname': '그린좋아', 'hash_id': 'ooV039a', 'review': '남한산성 청량산에서 내려오는 상쾌한 공기 마시고,\\n시원한 바람 맞으며 강쥐와 저녁산책 했어요\\n그린파크 이웃분들도 많이들 나오셨네요~~^^\\n밤인데도 파랗고 맑고 높은 하늘, 뭉게구름,\\n환하게 떠 있는 달이 너무 예뻐서 사진에 담아봤습니다~^^'}, 'review_73': {'nickname': '시놉', 'hash_id': 'WdM2b4', 'review': '예전보다 덜 이쁘지만 관리 잘하면 더 이뻐질 곳, 지금 이순간의 풍경입니다.\\n지금도 새소리가...같이 담아드리고 싶네요~~\\n\\n밤에 풍기는 사시사철 진하고 촉촉한 풀내음,\\n알록달록한 단풍진 가을풍경,\\n눈덮인 수묵화 같은 겨울풍경,\\n그리고 제가 개인적으로 제일 좋아하는 4월말 아카시아의 진한 향기...를 품은 품절 그린파크에요^^'}, 'review_74': {'nickname': '유니코드', 'hash_id': 'or3Sba1', 'review': '위례 푸르지오 중 최고의 뷰와 조건을 자랑하는 단지입니다.\\n\\n남한산성과 맞닿아있어 여름에 시원하고 늘 맑은 공기를 마실수 있습니다.\\n\\n동간거리가 넓어 채광이 좋고 답답하지 않습니다.\\n\\n전 평형이 39평형 이상이라 주민 수준도 높고 생활하기도 넉넉한 단지입니다.\\n\\n단지 앞에 바로 순환버스, 마을버스가 있어 주요거점으로의 진출이 용이하고(강남, 강북, 잠실 등) 21년 12월에 개통되는 8호선 남위례역까지 운영하게되면 교통접근성은 더 개선될것으로 보입니다.\\n\\n위례신사선이나 위신연장선은 아직 먼 미래이기에 언급하지 않겠으나, 개통시 엄청난 메리트있을거고요.\\n\\n타 푸르지오 단지도 가봤지만 그린파크푸르지오는 좀 더 좋은 자재와 옵션이 적용된 단지입니다.\\n\\n학군도 위례초학군이라 선호하는 단지이고요.\\n\\n강남에서 이사왔는데 매우만족하며 살고있습니다.'}, 'review_75': {'nickname': '스파게티', 'hash_id': 'CYg1a0', 'review': '<<실거주 장점 >>\\n\\n1. 주민들 수준 및 민도가 높음. 기본적으로 다들 평화로움.\\n\\n2. 임대없는 유일한 학군, 초중고 학업 수준 및 성취도 높음.\\n(위례초, 위례중, 위례고 학군 / 경기도 학업성취도 상위권)\\n\\n3. Top 급 조경과 경관, 폭포, 개울가, 수목원 같은 나무, 화훼, 고급 아파트 분위기, 광폭 지하주차장.\\n\\n4. 무량 판 구조의 층간 소음 없는 설계. 동네 아이들도 학원\\n다 니는 연령대가 많아 역대급 조용함.\\n\\n5. 남한산성으로 바로 갈 수 있는 아파트 주민 전용 출입구가\\n따로 있음. \\n\\n6. 숲세권으로 평균적인 타 단지보다 미세 먼지는 낮게 나오\\n고 여름에 시원하고, 겨울엔 따뜻함.\\n\\n7. 차량 2대 주차비 무료, 아파트 실내외 모두 LED 시공.\\n\\n8. 하남 위례 대형 도서관 완공. (도보 10~12분 내외 / 위례스타필드 옆 위치)\\n\\n9. 위례스타필드 (트레이더스 위례점) 성인 도보 10분 내외 걸어감, 중앙까지 10~12 분 걸어감. \\n\\n10. 위례신사선 지하철 하남연장선 출입구 그린파크 방향 호재. 위례삼동선 확정시에도 더블 역세권 가능.\\n\\n11. 경비원, 미화원 분들 매우 친절하심. \\n등하교시 위례초에서 그린파크 아파트 앞 횡단보도 녹색어머니 자원봉사와 함께 아파트 경비원분들이 등교시간 안전하게 차량통제 및 교통지원 해주심.\\n\\n12. 단지 내 실내 골프장, 헬스장 (GX룸 포함), 어린이 도서관, 성인 도서관 (도서관 2개), 독서실 최신식 보유.\\n\\n13. 서비스 면적 넓음, 실제 보면 40평 중후반대로 보임.\\n각 세대 지하창고 개별 보유 (상당히 큼)\\n\\n14. 무인 택배함. 전기차 충전기가 여러 대 비치 된 광폭 지하주차장. 주차장이 지하 2층 까지 있으나 자리 부족으로 내려 가본적 없음. with 클래식 음악.) \\n\\n15. 출입구 아트 갤러리, 아트전시관.\\n \\n16. 실내 외 천연대리석 (출입구 복도, 주방 상판등).\\n\\n17. 넓은 동간 간격, 100%대 용적률과 낮은 건폐율로 1층도\\n\\n해가 잘 들어옴. \\n\\n18. 5미터 이상의 거실과 맞동풍.\\n\\n19. 6504동 앞 그린카페, 입주민 등록 후 2천원대 저렴한 비\\n\\n용으로 즐기는 수준급 큰 커피숍.\\n\\n20. 광역버스, 서울 직행버스 등 단지 GATE 바로 앞 탑승.\\n\\n21. 위례는 신호등 하나 건너면, 성남이고 하남이고 서울이 되는 크지않은 신도시 입니다. \\n중앙쪽 차량 보유한 모든 학원, 유치원, 영유 셔틀 들어옵니다. 중앙타워 건물(GS 슈퍼마켓)에 장볼때 많은데, 신호등 포함 10~12분으로 걸어다닙니다. \\n\\n\\n위례그린파크 이웃이 되신걸 진심으로 환영합니다!\\n\\n감사합니다. (사진은 단지내에서 찍었습니다.)'}, 'review_76': {'nickname': '초록아파트', 'hash_id': 'op1I8bc', 'review': '아침에 새소리에 잠을 깨네요.\\n자연과 함께하는 위례그린파크푸르지오.'}, 'review_77': {'nickname': '그린좋아', 'hash_id': 'ooV039a', 'review': '동백지구, 광교신도시 거쳐\\n지금은 위례신도시로 이사와 만6년째 잘살고 있습니다~^^\\n길지도 짧지도 않은 제 평생에\\n위례그린파크푸르지오 아파트를 만나\\n말로만 듣던 숲세권의 혜택을 고스란히 느끼며 살아보니\\n너무 좋더라구요~~ㅋ\\n여름에는 바로 옆단지 아파트와 체감온도 1~2도는 차이나는듯 합니다\\n남한산성 산에서 내려오는 맑은공기, 시원한 바람은 덤이구요\\n산책로, 등산로도 아파트 뒤로 입주민들위해 개통되어 있어\\n근접이 용이합니다\\n등산 아주 싫어하던 제가 나홀로 등산을 즐기게 되었답니다\\n안전하고, 쾌적하고, 아파트 조경 으뜸이고, 아파트관리도 깨끗하게 잘되고 있습니다\\n모든분들을 직접 다 뵌건 아니지만\\n오고가다 보거나, 아파트 입주민 카페글 등에 올라온 글들을 보면 무엇보다 단지내 주민들의 인품이 훌륭하신것 같습니다\\n아이들의 표정 또한 편안해 보입니다~^0^\\n위례그린파크푸르지오에서 걸어서 5분거리에 있는 초중고를 보내고 있습니다\\n등굣길 환경 또한 쾌적하고, 안전하고,\\n아이들 걸음으로 적당히 걸어 도착할 수 있어 좋습니다~^^\\n저희 집은\\n겨울에는 바깥공기는 차도 샷시가 잘 설치되어 그런지\\n창문닫고 있으면 추운줄 모르다가\\n밤늦게 자기전에나 보일러 온도 설정해놓고 잠자리에 든답니다\\n세대수 많아 관리비도 비싸지 않은것 같습니다\\n덕분에 냉난방 비용 걱정없이 썼던것 걑아요~^^\\n타운하우스 몇 세대를 제외한 모든 세대가\\n똑같은 39평형입니다\\n아파트 내 구조가 인근 아파트들에 비교해 아주 잘 되어있고 고, 조경은 리조트에라도 놀러온것같은 착각을 할 정도로 타 아파트들에 비해 최고라 자부합니당~ㅋ\\n\\n어후...^^;;\\n제 이야기를 해야 다른 이야기들을 볼수있대서\\n간단히 써보려고 했는데... 쓰다보니 자랑할게 차고 넘치네요\\n살면서 좋은 이야기들은 시간을 두고 차차 더 써볼께요\\n감사합니다~^^'}, 'review_78': {'nickname': '송의섭', 'hash_id': 'ooWJ2d3', 'review': '위례그린파크하면 뭐니뭐니해도 뷰가…넘사벽이죠..'}, 'review_79': {'nickname': '도레미1', 'hash_id': 'idNU175', 'review': '흔한 단지 산책풍경입니다. \\n\\n도보 5분거리에 병원,마트,학원가 밀집 상가지역, 10분거리에 스타필드시티, 단지내 어린이집, 5ㅡ10분거리에 유치원,초,중,고, 동부간선도로, 송파ic 10분내 진입,  잠실,대치,양재, 삼성동 자차15분ㅡ20분. \\n \\n송파, 강남에 직장있는 저희 가족에겐 너무나 만족스러운 거주지입니다. 퇴근하여 아이들과 산책하는 시간이 가장 힐링됩니다.'}, 'review_80': {'nickname': '그린파크22', 'hash_id': 'kVOdc0', 'review': '• 위례 1등 명품 단지\\n• 세계문화유산 남한산성의 숲세권\\n• 강남 생활권 공유\\n• 국내 1등 골프장 뷰(태릉CC 이전 예정)\\n• 위례삼동선 도보 5분(4차 철도망 확정)\\n• 위례신사선 하남 연장(추진중)\\n• 위례 초중고 1등 학군\\n• 남한산성 산책로 단지내 직접 연결'}, 'review_81': {'nickname': '노래쟁이', 'hash_id': 'kVOdc0', 'review': '우리 아이들 좋은 공기와 멋진 자연풍경 속에서 건강하고 못지게 자라길 바랍니다. 그린파크 실거주 넘 좋아요. 놀이터 뷰가 ㄷㄷ'}, 'review_82': {'nickname': '트로이목마', 'hash_id': 'gA1le3b', 'review': '숲세권이라 공기가 너무 좋아요. 삶의 질이 달라집니다'}, 'review_83': {'nickname': '푸른이', 'hash_id': '9jsTbec', 'review': '이사를 많이다녔는데\\n그동안 살았던 집중 단연 최고!!\\n공기가 달다는게 뭔지 알게된 청정지역~\\n도심에서 이런 리조트같은 환경을 누리는건\\n너무 너무 큰 복인것같아요~~~'}, 'review_84': {'nickname': '마빌러스', 'hash_id': 'oozI473', 'review': '퇴근길에 아파트사이에 배경으로 보이는 청량산을 보노라면 하루의 피로가 사라지죠.'}, 'review_85': {'nickname': '나는야', 'hash_id': '34IIb52', 'review': '위례삼동선 생기면 안방까지 도보5분도 안 걸림\\n위신선 위례중앙역에서 도보15분\\n남한산성의 사계절 뷰 맛집'}, 'review_86': {'nickname': '비트차', 'hash_id': 'oooQ857', 'review': '장점\\n남한산성이 바로 뒤라 공기가 다름\\n아파트가 깨끗함\\n공용시설이 잘되어있음\\n\\n단점\\n교통'}, 'review_87': {'nickname': '3**7', 'hash_id': 'odn1f26', 'review': '강남권 신도시이며 거실뷰의 아름다움은 상상을 초월합니다. 단지내 조경은 고급스런 나무와 꽃으로 빽빽하게 심어져 있으며 폭포수와 함께 멋진 조화를 이루고 있답니다. 실내구조는 위례내 최고를 자랑합니다. 공기는 맑고 소음도 전혀 없는 그린파크푸르지오에서 가족과 함께 영원히 살고 싶은 거주만족도 1등 아파트입니다.'}, 'review_88': {'nickname': '그린파크', 'hash_id': '9Ez8f99', 'review': '거실뷰 입니다.\\n그린파크콘도라고 부릅니다^^'}, 'review_89': {'nickname': '위례맘', 'hash_id': 'eRb797a', 'review': '남한산성 뷰'}, 'review_90': {'nickname': '힐링타임', 'hash_id': '1Llu299', 'review': '오늘 거실 전면에서는 일곱색깔 무지개가, \\n주방 쪽에서는 붉은 노을이 이중주를 펼치네요.'}, 'review_91': {'nickname': '도레미1', 'hash_id': 'idNU175', 'review': '오늘 아침 산책때입니다. 매일 힐링하며 삽니다.'}, 'review_92': {'nickname': 'tory', 'hash_id': 'boYre01', 'review': '그린파크 밑의 동네보다 여름에 2도가 낮다합니다.넓게 뽑은 내부가 넘나 쓸모있고 동간 간격 넓디 넓어서 마치 공원 같은 동네 조경입니다.그린파크 최고의 명품 아파트입니다.'}, 'review_93': {'nickname': 'sjdgdje', 'hash_id': 'mtDcc90', 'review': '산책하다보면 기분도 좋아지고 공기도 너무 좋아요!!! 조경짱짱'}, 'review_94': {'nickname': '꼼이맘', 'hash_id': 'nqO643b', 'review': '그린파크에 늘가고싶어하는 주부입니다.\\n조경과 숲속에있는것같은\\n도심속최고의아파트같아요'}, 'review_95': {'nickname': '위례호', 'hash_id': 'npbPa56', 'review': '새집이라서 좋고 주변 환경이나 살기 딱 좋음\\n베드타운느낌 있긴함\\n대중 교통이 좀 더 발전되면 더 좋을듯'}, 'review_96': {'nickname': '저점사냥꾼', 'hash_id': 'dWv7ac', 'review': '이사와서 짐정리하느라 힘드네요...ㅠㅠ\\n중, 고층뷰야 워낙 훌륭한 단지라 다들 아실테고,\\n흔한 1층 소파뷰 투척하고 갑니다.\\n매일 초록보며 힐링하니 좋네요. \\n얼른 그린파크 생활에 적응해야겠습니다.'}, 'review_97': {'nickname': '기블리', 'hash_id': '3k036a3', 'review': '다주택매물은 이제 정리 마무리된거같네요. \\n뷰 나오는집들은 워낙 거래가 없고 \\n뷰 사진 한 번 1000명넘는 단톡방에 올렸더니 \\n이런 뷰가 어디냐며 \\n죽기전에 살아야하는 탐나는 곳이라고 인기쩌네요. 역대급 뷰 반응이었어요. 위례에 이런곳이 있는걸 잘 모르시는거 같네요. \\n후후후 \\n이제 제자리 원래대로 찾아가야죠. \\n글고 양옆에 kb 15억시세미만 대출나오는 아파트 2개있으니 시세왜곡도 좀 있네요. \\n그린파크 너무 좋은 아파트. 입주민들 민도도 좋습니다.'}, 'review_98': {'nickname': '트로이목마', 'hash_id': 'gA1le3b', 'review': '공기가 너무 좋고 쾌적한 명품아파트입니다.\\n강남권과도 너무 가깝고 경기도 외곽으로 가는 것도 넘  편리합니다.'}, 'review_99': {'nickname': 'Lolzmxn', 'hash_id': 'mtDcc90', 'review': '그린파크는 왜이렇게 저평가 되었죠? 가격이 많이 싸네요'}, 'review_100': {'nickname': '사람이좋다', 'hash_id': 'nao44dd', 'review': '궁금합니다 골프장 전망나오는 동  골프장 야간 조명으로 인한 불편함은 없는지요? 다른곳 얘기 들어보면 조명때문에 불편하다는 방송을 봐서요. 입주할시 골프장뷰쪽을 매수고려중입니다'}, 'review_101': {'nickname': '5438912', 'hash_id': '34IIb52', 'review': '그린파크처럼 조경을 예쁘게 해놓은 곳이 없어요 문밖을  나가면 소나무가 빽빽하게 심어져 있어 피톤치드 기대로 흡입합니다 소나무동산도 너무 예쁘고 소나무 숲 벤치에 앉아 노을을 바라보는 것도 참 좋아요\\n계곡을 옮겨놓은 듯한  폭포수도 너무 좋구요 잘 꾸며진 중앙공원은 힐링공간입니다'}, 'review_102': {'nickname': '빵돼지', 'hash_id': 'byms986', 'review': '조경 및 주변 환경이 좋아요. 숲세권이고 교통도 많이 편해졌어요. 차도 많이 안다녀서 조용하고 좋습니다'}, 'review_103': {'nickname': '그팍최고', 'hash_id': 'iKfub0b', 'review': '위례 26평 살다가 애가 점점 크다보니 좁게 느껴져서 \\n호반 더힐쪽만 보다 그팍을 우연히 보고 너무 마음에 들어 \\n당일 계약했습니다 \\n평수 구조 너무 좋고 자연경관도 좋고\\n외관도 고급지고 공기좋고 조용하고 주차장 널널하고 편해요!\\n전 자차이용해서 그런지 단점이라곤 못찾겟네요~\\n앞으로 몇십년은 이사 안하고 살것 같아요~♡'}, 'review_104': {'nickname': 'Green Light', 'hash_id': '2d6Fa3b', 'review': '서울 올라와서 참 여러 곳을 다녔다.\\n전세 살이 피곤한거 다들 아시겠지만 이러저러한 사유로 사당, 상계, 일산, 대치, 삼성동등 여러 곳에 살아보았다.\\n하지만 단언코 여기만큼 공기맑고 초록의 즐거움을 느낄 수 있는 곳이 없다. 오히려 왠만한 시골보다 관리가 잘 되어 있어 집을 나서면 콘도에 놀러온 듯이 즐겁고 마음이 편해진다. 아이들을 키우기에도 너무 좋고 호흡기질환을 달고 살다가 이제는 적어도 그걸로 병원 가는 일도 없고 서울에 이런 곳이 또 있을까 싶다. 밥을 먹고 나서면 아파트 바로 옆에 야트막한 산에 나있는 산책로를 걸으며 힐링을 하고 또 잘 가꾸어진 예쁜 공원에서 행복 에너지를 충전할 수 있어 너무 좋다. 지금도 집 뒤에 있는 청량산 중턱 전망대 의자에 앉아 강남을 바라보는데 뿌옇게 흐린 것이 도대체 이해가 안간다. 여기는 미세먼지 \"좋음\"인데 불과 차로 10분 거리인데 왜 그리 차이가 나는지말이다. 정말 우연히 인연이 닿아 여기서 살게 되었는데 너무도 감사하고 행복하여 주절주절 글을 올려본다.'}, 'review_105': {'nickname': 'ㅡㅡㅡㅡ', 'hash_id': 'mtDcc90', 'review': '강아지 산책 하기 너무 좋아요. 강아지 키우기 최적의 아파트 같고요. 문 열면 마치 여행 온것처럼 풀 냄새랑 조경이 너무 좋아요.'}, 'review_106': {'nickname': '노래쟁이', 'hash_id': 'kVOdc0', 'review': \"이상우 애널리스트가 2021 하반기 픽한 곳.\\n'위례 학암동' 중 가장 메이저 브랜드이며 입주민 수준 높은 대장 단지입니다. 골프장 및 남한산성 조망으로도 이미 널리 알려진 곳, 강남 부자 형님들의 세컨 하우스로도 많은 인기를 얻고 있습니다.\\n\\n•교통\\n1. 위례 삼동선 호재(4차 광역철도 계획 포함)\\n2. 위례신사선 하남 연장 호재(하남시, 국토부 협의중)\\n3. 위례신사선 중앙역 도보 10분대(확정, 내년 착공)\\n4. 8호선 남위례역 버스 5분(확정, 올해 개통)\\n5. 위례선(트램) 도보 10분대(확정, 올해 착공)\\n6. 강남(9202), 광화문(9200) 직행버스 단지 바로 앞 운행\\n\\n•생활\\n1. 스타필드시티 도보권\\n2. 위례 제2 상권(항아리 상권) 도보권\\n\\n• 학군\\n1. 위례내 유일무이 임대없는 학군(민영 중대형단지 위주)\\n2. 수준높은 위례고(비평준화) \\n\\n\\n강원도 산골 리조트 같은 환경과 지하철 준역세권\\n그리고 대형 할인마트, 영화관을 모두 가진 곳,\\n눈 씻고 찾아보기 드문 곳입니다.\"}, 'review_107': {'nickname': '135800468099', 'hash_id': '2vPD884', 'review': '이상우 애널리스트가 하반기 집값 상승 예고한 위례 학암동. 앞으로 폭등열차 예약중'}, 'review_108': {'nickname': '사계절', 'hash_id': '34IIb52', 'review': '그린파크는  스타필드 도보권이라 시장보러 가기도 편하고ㆍ초중고도 가까워서 학생들이 안심하고 학교 다닐수 있어서 아주 좋음'}, 'review_109': {'nickname': '그린파크 최고', 'hash_id': '34IIb52', 'review': '4차국가철도망계획에 위례삼동선 확정되었습니다\\n푸른초사거리에 역이 생기면 걸어서 5분이내 초역세권입니다'}, 'review_110': {'nickname': '김경원', 'hash_id': 'mKZb002', 'review': '대로변에 붙어있으면서도 한쪽으로 산을 끼고 있어 편리함과 조용함을 동시에 즐길 수 있습니다. 특히 푸른 숲 뷰 좋아하시는 분들께는 아마 최상의 아파트가 아닐까 하네요.'}, 'review_111': {'nickname': '공기좋지', 'hash_id': '3k036a3', 'review': '저녁먹고 단지산책 중인데\\n요즘같은날엔 숲세권 가치가 참 소중한거 같아요  .'}, 'review_112': {'nickname': '뽀리아빠', 'hash_id': 'mBHea00', 'review': '- 전망이 좋고 단지내 산책로가 정말 잘되어 있음. 등산로가 바로 연결되어 있어서 언제건 산으로 산책 갈 수 있음. 단지내 커뮤니티 시설도 잘해두고, 관리도 잘되는 편. 수서역이랑 서울역으로 바로 가는 버스가 있어서 출퇴근 하기는 나쁘지 않은듯.\\n- 그러나, 위례 제일 끝에 위치해서 경관과 공기가 제일 좋다는 장점의 이면에는 위례 메인스트리트와 걸어 다니기는 조금 멀다는 단점도 있음. 자차 없이 살기는 조금 불편할듯.'}, 'review_113': {'nickname': 'Jdjdheje do', 'hash_id': 'mtDcc90', 'review': '너무 좋아요.'}, 'review_114': {'nickname': '0**0', 'hash_id': '8OIkd0e', 'review': '작년9월에 이사와서 행복하게 살고있습니다.반듯한 B형남향 구조라 겨울 내내 해가 거실깊숙히 들어와서 실내온도가28도까지 올라갑니다. 거실과 작은방은 난방은을 거의 틀지 않았구요  안방만 밤에 현재온도랑 같이 맞췄습니다. 겨울 현재온도가26도입니다. 남편은 차로 다녀서 너무 편리하게 다닙니다.지하도를 지나면 청담 고가도로가 나옵니다. 그린파크에서 삼성서울병원까지  10분~15분걸립니다. 대치동에 오래살다와서 주로 대치동에  볼일보러 자주가는데 15분~20분 걸립니다. 대중교통은  장지역에가는버스31번 331이 있습니다. 31번은 잠실역 광역버스터미널까지 갑니다. 331번은 수서역 까지가고요.복정역가는 버스는4개이상 있어요. 서울버스333번343번 440번 362번등 타고 35단지앞에(위례중앙상가)내려서 오솔길로 쭉 걸어오면15분걸립니다. 오솔길이 예뻐서  걷기 쾌적합니다. 대중교통도 좋아요.대치동 살때는 양재천에 잘 안갔었는데 여기와서 뒷산이나 창곡천으로 자주 산책합니다. 저희는 가을 단풍부터 겨울 눈꽃으로 행복했는데 요새는 봄꽃과 새잎이 난 나무들을  보며 힐링하며 삽니다. 거실에 앉아서 보는 정원뷰도 너무 예뻐요. 자연을 좋아하시는 분께 강추합니다.'}, 'review_115': {'nickname': '민', 'hash_id': 'mikq87d', 'review': '진짜 경관이 너무 좋습니다. 다만 자차없으면 교통은 최악이지만, 집이라는 관점 하에 본다면 정말 노년이 되도 계속 여기서 살고싶습니다. 아침마다 새소리 들으면서 일어나는게 정말 좋네요.'}, 'review_116': {'nickname': '이기철', 'hash_id': '9EB4dda', 'review': '자연환경이 제일 좋은 아파트로 알고있습니다  혹 일생활시 불편한 점은 없는지요?'}, 'review_117': {'nickname': '도레미1', 'hash_id': 'idNU175', 'review': '아침일찍 일어나 커뮤니티센터로 운동을 하러 가는길은 맑은공기덕분에 힐링되고 자연을 보며 운동하는  시간은 호텔 헬쓰장에 온것같은 기분입니다. 단지 내 조경도 잘 조성되어있고 골프연습장과 스크린골프, 저렴한 레슨비로 프로님의 레슨을 받을수 있습니다. 도서관, 독서실 시설도 훌륭하며 배드민턴장에서 운동하는 아이들을 보면 흐뭇합니다. 카페에서 맛있는 음료와 빵을 저렴한 가격에 먹을 수 있습니다. \\n\\n층간소음은 전혀 느끼지 못할정도로 조용하고  지하창고와 집 내부 수납공간이 충분합니다. 그리고 주차장은 항상 여유있고 칸도 넓어서 문콕스트레스도 전혀 없습니다.\\n\\n입주민들이나 관리사무소 직원분들 모두 너무 친절하고 매너있으시며 무엇보다 집이 넓어 집에만 있고싶습니다. 조망이나 집 내부에 관한 정보는 많이 올라와있어서 그 외시설에 대한 경험담 공유합니다.'}, 'review_118': {'nickname': '수수', 'hash_id': 'ltU0be3', 'review': '지난 겨울, \\n풍경이 너무 좋은 집\\n공기도 맑은 집\\n주민간 배려도 좋은 것 같습니다'}, 'review_119': {'nickname': '이지현', 'hash_id': '8Mpj708', 'review': '쾌적하고 살기 좋아요. 위례 대부분의 아파트가 좋지만 그중에도 조경 최고! 아파트와 연결된 남한산성 둘레길도 넝수 좋아요'}, 'review_120': {'nickname': '설운도', 'hash_id': '1Llu299', 'review': '오늘 흰 눈이 동양화 한폭을 그렸네요.\\n거실에서 본 풍광이 넘 멋져요. \\n여기가 바로 자연을 품은 아파트 그린팍입니다.'}, 'review_121': {'nickname': '김가운', 'hash_id': 'bPQKc6f', 'review': '2016년 1월 최초입주하여 5년차 살고있습니다.\\n남한산성의 맑은 공기는 두 말 할 것도 없구요,\\n아파트 단지내 부대시설도 아주 만족스럽습니다.\\n(카페 골프장 헬스장 공원 산책로 등)\\n유일한 단점이었던 대중교통도 많이 좋아지고 있고\\n인근 상권도 웬만한 건 다 있어서\\n살기 매우 좋네요~~^^'}, 'review_122': {'nickname': '여니유니', 'hash_id': '9rHad57', 'review': '창밖만봐도 힐링되네요'}, 'review_123': {'nickname': '진달래', 'hash_id': 'kgf4fae', 'review': '이렇게 좋은집에서 다시는 살수 없다고 생각하니 \\n맘이 아프네요. 퇴근하고 집에 오면 행복합니다'}, 'review_124': {'nickname': '듀듀', 'hash_id': 'kb1T9d3', 'review': '커뮤니티, 아파트 관리가 너무 잘 되어 있어요. 분리수거나 엘베 관리만 봐도 알 수 있죠.\\n\\n대중교통은 진짜 불편한 거 같아요.. 위례에서도 가장 끄트머리에 있어서..\\n그치만 바로 뒤에 남한산성 있어서 조망 좋은 곳에서는 어디서도 보지 못한 뷰를 갖추고 있습니다.\\n\\n자동차로 다니시는 분들, 깔끔하고 조용하며 관리 잘 되는 아파트 선호하시는 분들은 추천이요!'}, 'review_125': {'nickname': '주디', 'hash_id': 'aT13985', 'review': '16억넘은 실거래 팩트네요\\n\\n아직도 한참 저평가군요'}, 'review_126': {'nickname': '가치사냥', 'hash_id': '1Llu299', 'review': '남한산성이 병풍삼은 웅장한 산세뷰.\\n삼한사미에도 피톤치드 품은 청량한 공기.\\n사시사철 변화를 느끼는 매일매일 휴양지.\\n산성까지의 산행으로 건강 충만.\\n강남 도심을 마실다니듯 이웃한 근거리.\\n\\n이 모두가 영원히 보장되는 누구나 살고싶어하는... 그래서 한 번 몸담으면 떠나기 싫어하는... \\n언제나 영원히 소장하고픈 아파트!!!!!\\n위례 그린파크입니다.'}, 'review_127': {'nickname': '기블리', 'hash_id': '3k036a3', 'review': '그린파크 15억중반에서 16억초반 서너개 거래되었대요\\n\\n근데 누가 자꾸 신고먹이는건가요\\n\\n타단지도 다 올라오는데\\n\\n신고먹이면 탈모된다!!!'}, 'review_128': {'nickname': 'diekdj', 'hash_id': '1Dqu3f5', 'review': '이제 KB시세로 일반평균가 15억이네요.\\n조만간 1원이라도 오르면 그린파크도 대출로는 살 수 없는 아파트가 되겠네요.'}, 'review_129': {'nickname': '설악산뺨침', 'hash_id': 'aT13985', 'review': '굿맨'}, 'review_130': {'nickname': '주디', 'hash_id': 'aT13985', 'review': '그린파크 호갱님들 또 당하셨네요. \\n 다들 아너소사이어티 가입하신듯'}, 'review_131': {'nickname': '9**2', 'hash_id': 'fWNtc01', 'review': '며칠전 지는 해와 함께 맑은 하늘이 눈을  뗄 수 없어\\n 그린파크정경 올려봅니다~~^^\\n역쉬!!!  정경하면 그린파크입니다~~~~~♡♡♡'}, 'review_132': {'nickname': '2580Jang', 'hash_id': 'boYre01', 'review': '크린파크 푸르지오에서 거주한지 4년 되갑니다.\\n강남 개포동 진입 9분대 여서 굳이 강남의 옛모델 에서 살 필요가 없더군요.\\n모든게 최신식 시스템여서 편한건 이루 말할수 없습니다.\\n지하 주차장은 넓고 쾌적함에도 크래식 음악이 잔잔히 흐르는걸 압구정 사는 친구가 와보더니 집 팔리기만 하면 이동네로 이사오겠다고 다짐 하더군요.\\n지상의 정원은 그야말로 전원주택이 필요없습니다.'}, 'review_133': {'nickname': '9**6', 'hash_id': 'is91290', 'review': '조용하고 쾌적한 분위기예요~!\\n산조망이라 뷰도 좋고, 특히 주차할 곳이 많아서 \\n주차걱정 없어요!'}, 'review_134': {'nickname': '제이지유', 'hash_id': '3Hggf98', 'review': '새소리 물소리  여름에는 개구리소리들으며  도심속 전원생활에 너무 만족하고  남한산성 둘레길  수변산책으로   엄청 건강해졌어요\\n아파트라기보다  콘도 같아요'}, 'review_135': {'nickname': '입주예정', 'hash_id': 'idNU175', 'review': '위례거주하면서 남한산성 산책로걷다가 완전히 로망이 되어서 드디에 입주앞두고있어요 너무나 설레입니다'}, 'review_136': {'nickname': '9**2', 'hash_id': 'fWNtc01', 'review': '오늘 아침 또 그린파크에도 눈이 소복히 쌓였습니다~~\\n다들힘든날들이지만\\n ♡행복한 주말되시고 건강 잘 챙기세요~~'}, 'review_137': {'nickname': '9**2', 'hash_id': 'fWNtc01', 'review': '지금 그린파크에서 바라 본 \\n쪽빛하늘이 넘 예뻐 공유해봅니다~^^'}, 'review_138': {'nickname': 'JJS', 'hash_id': '9tZF9b8', 'review': '33살 직장인입니다. \\n직주근접성: 강남으로 대중교통 피크타임 출퇴근 1시간 소요됩니다. 가장 가까운역이 복정역인데 아파트 단지 바로앞에 복정역 가는 버스 4개정도 다닙니다. 추후 위신선등 들어올 경우 통근시간 10분정도는 단축 될 거 같습니다. 위례중에서도 이 직주근접성은 낮은편입니다. \\n쾌적함 조망등은 매우 좋습니다. 남한산성 산책로, 성남cc골프장 뷰등  산을 뒤로 하고 있어 매우 조용하며 자연을 눈과 귀로 느낄 수 있습니다. 단지 자체가 넓은편이라 아이들 키우기도 좋습니다'}, 'review_139': {'nickname': '6**2', 'hash_id': 'g2v7fc2', 'review': '성남골프장앞인데 택지개발 임대단지 (운좋으면 타운하우스) 들어온다는게 소문이 맞는건지? 아니면 어떻게 되는지 좀 알려주시면 감사드리겠습니다.'}, 'review_140': {'nickname': '9**2', 'hash_id': 'fWNtc01', 'review': '오늘 첫눈이 펑펑내리던데~~~~~ㅎㅎ\\n 위례가 너무좋아 ♡그린파크푸르지오로 이사왔어요\\n세달전에 이사와서 위례바보되어갑니다~~^^\\n오늘 집에서 바라 본 풍경이 너무 예뻐 \\n사진찍어 공유해봅니다\\n그린파크 살면 살수록 넓은 주차장부터 내부시설\\n조경까지\\n뭐하나 맘에 안드는 게 없어요~~~^^'}, 'review_141': {'nickname': '주디', 'hash_id': 'aT13985', 'review': '코로나때문인지 숲세권의 가치가 빛을 발하나보네요. \\n이웃 \" 더힐35평 \" 공원뷰가 \"14억\"에 실거래되었다는데\\n그린파크푸르지오 39평 골프장과 산뷰의 가치도 기대되네요.'}, 'review_142': {'nickname': '주디', 'hash_id': 'aT13985', 'review': '.'}, 'review_143': {'nickname': '박태민', 'hash_id': 'hyVT60d', 'review': '입주한지 벌써 4년이 되어가네요. 그린파크는 말 그대로 푸르름이 가득한 힐링 아파트입니다. 서울근교에 이처럼 공기좋고 살기좋은 아파트는 손에 꼽을 정도입니다. 전세주고 다른곳으로 가려고도 했지만 집사람이 가려고하질 않네요. 그 만큼 살기  좋다는거겠지요. 그린파크는 집주인들이 많이 거주한다고 들었습니다. 위례에서 조경이 가장좋고 산뷰와 골프장뷰는 그린파크가 최고라고 생각합니다. 조만간 전철이 순차적으로 들어오면  더 좋은 아파트로 자리매김할수 있을거라 생각됩니다'}, 'review_144': {'nickname': 'kps', 'hash_id': 'hXQv10c', 'review': '자연친화적인 아파트\\n신사선 개통 이후에는 위례 대장 아파트로 격상'}, 'review_145': {'nickname': 'ekdocus', 'hash_id': '1Dqu3f5', 'review': '반가워요, 곧 D타입으로 이사갑니다.\\n독특한 구조라서 거실 배치 고민이 되어 인테리어 블로그와 앱들 보는게 하루의 일상이네요 :)'}, 'review_146': {'nickname': '위례새댁', 'hash_id': '2vPD884', 'review': '조만간 14.9 실거래 올라옵니다. 참고하세요.'}, 'review_147': {'nickname': '발렌', 'hash_id': 'axJX7d0', 'review': '연말이라고 문주를 꾸몄네요. \\n호캉스 느낌이네요. \\n입대위분들 일 열심히 해주시는것 같아 감사합니다. \\n나중에 푸르지오 요즘거로 도색하면 완전 더 고급스러울듯'}, 'review_148': {'nickname': '발렌', 'hash_id': 'axJX7d0', 'review': '원앙봤다는글 전언으로 올렸더니  \\n이 아파트랑 관련 없는 글 올렸다고\\n질투심쩌는 분이 신고한건지 정책위반이라해서 어이가 없네요 ㅎㅎ \\n마침 코로나 폭발로 재택근무하는 김에 집에 있다가  제가 실물 보고 찍었네요. 저도 실제로는 처음 봤는데 대백로랑 원앙 내 서재에서 본 겁니다. 원앙 열댓마리 지들끼리 치고받고 귀엽네요. 첨엔 오린 줄 ㅎㅎㅎ\\n별걸 다 신고먹이고 정책위반이라네요 ㅎㅎ\\n뭐 아파트에서 이런거 보인다는게 안 믿기고 비현실적이긴 하죠.  근데 진짠걸 어떡하죠\\n이래도 아파트랑 관련없는 글로 정책위반인가?'}, 'review_149': {'nickname': '구튜브', 'hash_id': 'hrwHab5', 'review': '우선 뒤에 남한산성으로 확실히공기좋습니다, 엄청조용하고요, 단지조성이잘돼있어요\\n\\n교통은 역생기기전에불편하지만 위례중앙광장쪽보다 장점은 좀더 조용하고 프라이버시 지켜진다는것 입니다 입구바로 앞에 장지역, 복정역가는 버스는 계속있습니다'}, 'review_150': {'nickname': '주디', 'hash_id': 'aT13985', 'review': '호갱노노 있는 그대로 지표입니다. 호가를 실거래보다 같거나 낮지 않으면 안 받아주는 \\n왜 위례에서 유독 눌림이 심한지  나타내주는 지표죠.    이 지경 만들어놓은 장본인들\\n유병장수 업보 대대손손 화이팅'}, 'review_151': {'nickname': '발렌', 'hash_id': 'axJX7d0', 'review': '골프장 해저드에 원앙이 산대요 대박 \\n저만 이제 알았나요????? 고라니 딱 한 번 봤는데\\n꿩사진도 있고 매;랑 황조롱이;는 좀 무섭지만 매도 있다네요 \\n원앙세권아파트네요.\\n전망대산책길 작은 산새들 많아서 무슨 새인지 궁금해하느라 탐조카페도 가입했는데 몇개올려보니 어디 지리산자락이냐고;;;'}, 'review_152': {'nickname': '발렌', 'hash_id': 'axJX7d0', 'review': '극강의 자연을 맛보며 도심 가까운 인프라 누리고프다면 포스트코로나 가히 최고의 아파트에요.   \\n성남골프장 리뉴얼 얼른 되면 좋겠네요.\\n**맛보기로 전면뷰 사진 두 장 놓고 갑니다'}, 'review_153': {'nickname': '발렌', 'hash_id': 'axJX7d0', 'review': '사람 최대한 안 나오게 찍느라 오래 걸렸어요 ㅠㅠ\\n\\n1. 흔한 그팍놀이터\\n2. 흔한 쓰레기장가는길 (10동 쓰레기장이 가장 환상적) \\n3. 단지옆 남한산성 중간 전망대 가는길\\n4. 전망대의 가을 .(전망대 공사후 사람 더 많아진듯)\\n5. 가을 산책길 (이것도 사람 안 나오게 찍느라고생했네요. ㅠㅠ)\\n6. 피톤치드 쐬러 가족단위 산책객들 \\n7. 쥑이는 일몰뷰. 가로등이 잘 되어 야경보러 늦게 가는 분들도 많더라구요. \\n이상 그팍특파원입니다'}, 'review_154': {'nickname': '남한산성', 'hash_id': '1Llu299', 'review': '14.65억 거래 올라왔군요. 덕방에서 그 동안 떡치고있다가 한 달 꽉꽉채워서 이제 올렸군요. 어디 덕방일까 궁금하네. 그나마 거래신고 1달로 바뀌니 천만다행. 그 동안 얼마나 가두리하며 가격 후려쳤을지 눈에 보이는 듯. 개는 짖어도 기차가 가듯이 본연의 가치는 인정받는게 인지상정.'}, 'review_155': {'nickname': '자연가까운 편리성', 'hash_id': 'axJX7d0', 'review': '그린파크는 맨날 멀고 나이든분들만 많이 산다고  여기 안 사는 분들이 꼭 그리 말씀하시던데요. 저 젊어요!! 그리고 젊은 사람도 꽤 있고 편리성도 나쁘지 않습니다. 보통 여자 에이플항아리상권 5분거리,  중앙상권12-15분 거리에 있어요. 스타필드도 걸어다니는데 트레이더스갈때는 차를 꼭 가져가야해요. 항아리는 호반 롯캐 앞동만큼은 아니지만  아주 편리하게 이용중이에요. 그린파크 삼거리앞에서 사진 찍은건데 저기 에이플타워가 보이시죠. 그 옆에 상가라인이 있는데 병원 학원 약국 마트 등 없는거빼고 다 있어요 . 그리고 저 에이플타워에 이번에 대치동 깊은생각 분점이 들어왔어요.  물론 한석만한석원형제의 직강은 아니지만 공부분위기 좋으니 깊생에서 몇 안 되는 체인이 에이플타워에 들어왔겠죠?  뒤 보이는게 위례메인 중앙타워상가에요. 저는 딱히 멀다고 안 느끼는데 상대적이니 참고는 하세요. 꼭 코앞 이용하실 분은 신안이나 그쪽아파트반경 보세요. 그쪽에는 늘푸른, 황소,정상어학원등 있고 셔틀은 다녀요. 은행 자주가는 분들은 저기 상권이 더 유용하기는 하실겁니다. \\n그리고 옆에는 그린팤에서 보이는 롯데타워와 엄청난 규모의 밀리토피아인도어에요. 저녁시간에도 만석이네요 ㄷㄷ 멀리서도 찾아오는 유명인도어에요.  골프장이 다시 열면 아마 골프러버분들에게는 최고의 아파트가 되겠네요.  그리고 학교! 플로리체가 초중고품아인데 사실 거리상으로는 신안과 비슷하거든요?!!맨날 멀다고 하시는분들은 와보세요 ㅠㅠ 억울해요. 그리고 북위례 하남에는 중고가 없어서 위례초중고나 학원가 이용에도 위치가 나쁘지 않습니다.   이상 1년째 대만족중인 그린파크특파원이었습니다'}, 'review_156': {'nickname': '주차장특집', 'hash_id': 'axJX7d0', 'review': '저는 집볼때 주차장 중요하게 보는데요.  그린파크는 주차장이 너무 좋아요 ㅠㅠ ㅋㅋㅋㅋㅋㅋㅋ 진짜 문주랑 주차장때매 끌린것도 솔직히 좀 큽니다. 게이트 1은 진짜 골프리조트느낌나고 저렇게 코너도 없이 직선으로 쭉 뻗어 지하로 안 내려가는 주차장은 거의 처음 봤는데 너무 좋아요. 지친 퇴근길 들어올때면 호텔들어가는 기분 살짝나서 힐링입니다. 게이트2는 게이트1보다는 작은데 여기는 아담한대신 옆에 산이 너무 잘보이는 위치라 무슨 콘도놀러가는 기분이에요. 주차장컨디션도 좋은 편이고 24시간 클래식 틀어주셔서 새벽에 들어와도 무섭지(?)않고 좋아요. 출입문 안내판도 잘 보이고 세련되고 직원분들도 아침마다 친절히 안내해주시고 넘 좋습니다.  주차장 내부 색깔도 안 촌시럽고 에폭시도 안촌시럽게ㅋㅋㅋ  새벽늦게 들어왔는데 골라서댈 수 있네요. 이상 주차장특집이었습니다.   몇 달전부터 올려봐야지하다가 드디어 숙제를 하네요ㅋㅋ'}, 'review_157': {'nickname': '로우데', 'hash_id': '5wklb41', 'review': '아침에 일어나면 새소리와 확트인 남한산성 뷰를 봅니다.\\n넘 아름답고 행복한 시간입니다.'}, 'review_158': {'nickname': '파수꾼', 'hash_id': '1Llu299', 'review': '소문에는 15.5나 14.7도 있다는데 덕방이 아직도 정확히 오픈을 안하고 있으니 참조바랍니다. 피해 없도록 주의.주의.주의.'}, 'review_159': {'nickname': '파수꾼', 'hash_id': '1Llu299', 'review': '최근 14.5 이상 거래건이 몇 건 있는데 아직 덕방에서는 오픈을 안하고 있으니 여기 덕방들의 장기인 가격 후려치기에 당하지 않도록 주의바랍니다. 아무리 덕방들이 장난쳐도 그린팍의 가치는 알아주네요.'}, 'review_160': {'nickname': '호오', 'hash_id': 'ciu043', 'review': '전철역 접근성은 떨어지지만, 호수공원 조망 등 숲세권 이점이 극강인 아파트!'}, 'review_161': {'nickname': '신재선', 'hash_id': 'gnRl9f2', 'review': '등산로가 있어서 등산하시는 분들에게는 접근이 용이하지만 등산로에 사람들이 많이 다녀서 등산객 소음은 참고해야함'}, 'review_162': {'nickname': '아침햇살', 'hash_id': 'aTXSf39', 'review': '5년째 거주중입니다.산옆이라 공기가 좋고 여름에는 다른 곳에 비해 약 2도 정도 낮고 쾌적합니다. 또한 정남향이라 겨울엔 따뜻한 햇살이 거실 깊숙히 들어와 포근하고 따뜻해요.조금만 걸으면 각종 편의시설들도 잘 되어있어 굳이 위례중앙쪽 번잡한곳에서 살 필요없이 공기좋고 쾌적한 이곳이 좋을듯해요.집 내부의 인테리어도 모노톤이라 세련된 느낌이라 방문한 지인들이 다들 좋다고 하네요.오래도록 살고픈 집입니다'}, 'review_163': {'nickname': '위례새댁', 'hash_id': '2vPD884', 'review': '조만간 14.5 실거래 2개 올라옵니다. 참고하세요. 아마 한달 꽉채워서 올리겠죠'}, 'review_164': {'nickname': '파수꾼', 'hash_id': '1Llu299', 'review': '이곳은 아직도 덕방이 장난 치는군요. 낮은 가격거래는 바로 등록하고 비교해서 높은 거래는 한 달 꽉 채워 올려서 가격후려치니 당하지 않도록 조심해야합니다.'}, 'review_165': {'nickname': '위례그린', 'hash_id': 'duvF1d1', 'review': '공기좋고 조용하고 애들 키우기에는 매우 좋은것 같습니다. \\n동부간선 연결돼서 강남이나 강북으로 가기도 편하구요. 아직 지하철이 없는게 아쉽네요ㅋ'}, 'review_166': {'nickname': '9**2', 'hash_id': 'fWNtc01', 'review': '이사왔는데 살기 너무 좋습니다\\n조경이 너무 잘되어있고 개인지하창고가 있어 더 편리합니다\\n주차장이 저희게이트1쪽은 지하로 안내려가고 지상으로 올라가니 더 상승하는 기분입니다~~^^'}, 'review_167': {'nickname': '디제이', 'hash_id': 'dWv7ac', 'review': '혹시 안쪽동 저층 남동향도 일조량 충분한가요?\\n앞에 막힌거 같지 않은데 저층도 해가 잘 들어오는지, 곰팡이나 결로는 없는지 궁금하네요.'}, 'review_168': {'nickname': '그린좋아', 'hash_id': '2zgbb28', 'review': '뻐꾸기 소리, 귀뚜라미 소리 들으며 자연과 함께 아이들을 키울 수 있고, 아파트에 들어와 산을 바라보면 절로 힐링이 되는 기분입니다. \\n항아리상가도 가까워서 웬만한 학원, 병원, 마트 등 편의 시설이 다 있고, 스타필드에 가면 이마트 트레이더스 영화관 서점 쇼핑몰 등이 있어 생활하기 편리하네요. \\n주말에는 집 뒤로 이어지는 남한산성 등산로, 위례공원에서 창곡천으로 이어지는 산책길, 중앙광장 나들이, 휴먼링에서 자전거 타기 등 아이들과 함께 할 수 있는 즐길거리가 아주 많아서 좋네요.\\n자연의 여유로움과 도시의 편리함을 동시에 누릴 수 있어서 너무 좋습니다~'}, 'review_169': {'nickname': '주디', 'hash_id': 'aT13985', 'review': '우리아파트를 무슨 노후에만 살아야하는 곳 처럼 말씀하시는 (여기 안 사는 사람들) 분들 있는데\\n여기 조경이 하도 좋다고 소문나서 다른 아파트 아이들도 사생대회 그림그리러도 옵니다. \\n그리고 오늘도 귀여운 초고학년 혹은 중학생정도 되는 여아들 계단에 모여앉아 낙엽만 굴러가도 즐겁다 꺄르르꺄르르 소리 들립니다.\\n단지 전체 차가 안 들어오고 단지에 단차로 계단구성이 전혀 없어 전체가 평지같아서 자전거, 킥보드, 유모차 , 개모차끌기 최고요.   14동옆 유아풀에서는 저녁까지 물놀이도 하고 소나무광장옆 놀이터에는 저학년아이들 꺄르르꺄르르. 8동 뒤에서는 남아초딩들 자전거 시합하고 재미나게 놀고 있더라구요. 도대체 왜 애들 없다는 프레임을 씌우는지 모르겠네요.  여기서 노는 많은 애들은 애들이 아니라 할머니 할아버지라고 불러줘야되나요? 공기 좋아 어린아이 기관지 자연친화 아파트라 일부러 찾아오는 사람들도 있습니다. 숲세권=노인이라는데 , 아이때매 일부러 제 주변에서도 숲세권 찾아서 도심 한 복판에서 이사나왔어요. 그렇다고 시골 갈 수는 없으니 여기는 도심지와 가까운 숲세권 최고에요. \\n그리고 학교 멀다는 것도 여기 살지도 않는 사람이 얘기하는 프레임입니다. 16동,15동, 14동, 1동쪽은 아파트 커뮤니티와는 좀 거리가 있으나 동사무소 가깝고 롯데로 길만 건너면 쭉 초중고 금방 가요. 500m정도 도달가능하고요. 그 길로 더 가면 스타필드, 밀리토피아 인도어 나옵니다. 이상 거주자피셜입니다'}, 'review_170': {'nickname': '기블리', 'hash_id': '3k036a3', 'review': '1. 문주가 진짜 좀 웅장합니다. 누구 데리고 올때 쪼매 뿌듯 . 구축살다와서 아직도 들어갈때마다 왜때문인지 뿌듯함 . 경비원분들도 아주 친절하십니다.  주차장도 클래식 24시간 나오고 아 때깔 고급 자리넉넉 사진은 조만간 찍어 또 업로드 하겠습니다.\\n2. 우리아파트에서 이어지는 남한산성 도립공원 가는 등산로입니다. 전망대는 20분이면 가서 매일 가요. \\n3. 엘베 ... 위례 다른 푸르지오도 비슷할것 같은데 푸르지오 엘베 고급스러워요  안쪽에 거울이 있어 셀카맛집. 여자분들 거셀 맛집이에요. 인스타에 데일리핏 업로드 가능\\n4. 자재가 진짜 좋아요. 출입구 들어가는 타일  요즘 유행 스타일이죠.   저희집은 인테리어 했는데 업자분께서 위례 아파트 엄청 많이 했는데 그푸는 진짜 자재  내구성 좋아서 인테리어 하기 아깝다고 하셨어요. 그러나 전 꿋꿋이 인테리어를 ^^ ; 인테리어 한 집이 매우 많습니다. 실입주율이 엄청 높아서 그런가봐요\\n5. 여름에 창문열고 있으면 시원해서 에어컨 킬 일이 거의 손 꼽네요. 겨울엔 이중창 든든단열이 있고 \\n궁금한건 산 가까워서 산모기나 벌레 드글거릴 줄 알았는데 몇년동안 모기를 못 봤어요. 왜 때문인지 미스테리입니다.'}, 'review_171': {'nickname': '기블리', 'hash_id': '3k036a3', 'review': '골프리조트같아요 ㅋㅋ\\n얼른 군골프장 이전해서 \\n지인들 불러 란딩하고 싶네요\\n코로나때문에 힘든 시기\\n이런 아파트 살고 있어 그나마 지루하지 않게 버팁니다 ㅠㅠ \\n재택할때 산책도 자주 하고 아이들도 뛰어놀게 해도 안전해요.  공기 너무 좋아요. 공기 그린파크에서만 맡을 수 있는 숲내음은 이 곳에 담을 수 없는게 너무 아쉽습니다. \\n숲내음 맡으러 오세요\\n11월에는 단풍맛집입니다.'}, 'review_172': {'nickname': '7**4', 'hash_id': 'fyiR346', 'review': '조용하고 남향이며 남한산성 가까워 등산하기 좋은 쾌적한 아파트'}, 'review_173': {'nickname': 'tdhdheur', 'hash_id': 'bCgtda4', 'review': '위례에서 숲세권이 제일 가까운집 아파트 주차장도 넓고 잘빠져서 살기좋다'}, 'review_174': {'nickname': '이행성인', 'hash_id': 'bk0l508', 'review': '조경도 좋고 주차도 여유 있고 좋은데 아쉬운 점은 외부 방음이 좀 아쉬워요! 창문을 닫아도 바깥 소음이 많이 들리는게 거슬리네요'}, 'review_175': {'nickname': 'ㅊㅋ', 'hash_id': 'aT13985', 'review': '비조망저층 도로동 실거래 13에 올라오고,\\n골프장  아파트 개발된다는 얘기 한창 나오던 7월초순 상대적으로 덜 선호하는 c타입에서 14억 거래 나왔었네요. \\n\\n그후 지금까지 사정변경을 보면, 태릉cc에서 성남cc로 군골프장을 교환해서 올거라고 홍남기 부총리가 직접 언급한 바, 중대한 사정변경에 해당. \\n\\n그린파크에서  불확실성으로 가장 발목잡던 골프장뷰와 청량산뷰 (열병합등 시야방해 전혀없는 거실전면뷰)남동향동 영구확보호재 +  미사 센자나 강변자이처럼 역에서 먼 단지들도 지하철로 모두 신고가 나오는 점 고려시 위신선 트램에 영향 받을것이 명백. \\n\\n고로 예전 가치 제자리 찾을 일만 남았네요'}, 'review_176': {'nickname': '대장헌터', 'hash_id': '1Llu299', 'review': '위례그린파크 이제 더 날라가겠군요. 축하해요.\\n영원한 남한산성 숲세권에 성남골프장 조망도 쭈~욱가겠네요. 위례대장아파트로 다시등극.'}, 'review_177': {'nickname': '염라대왕', 'hash_id': '4aLuff1', 'review': '은퇴후 살기에 좋음. 산책로가 되어있고 매우 조용함. \\n그러나 도심으로 출퇴근 하는 경우 매우 불편. 시내로 나가려면 지하철 타야하는데 8호선으로 가는 버스가 몇대있긴하나 그마저도 자기들끼리 몰려다님.'}, 'review_178': {'nickname': '위례새댁', 'hash_id': '2vPD884', 'review': '수도권 top10 아파트 경기도권에서 그린파크가 선정되었습니다!!'}, 'review_179': {'nickname': '위례새댁', 'hash_id': '2vPD884', 'review': '지하철과 상권은 인간이 만들수 있지만 그린파크의 자연환경은 인간이 만들수없죠. 그것이 진정한 프리미엄!!! \\n\\n상가까지 걸어서 5분, 위신선 예정지까지 걸어서 15분, 초중고 걸어서 5분~15분(gate2쪽 단지들은 학세권이라 불리우는 타단지들 학교에서 먼 동들보다 오히려 가까움)\\n\\n거기에 차후 위신선 연장이 되면 그때는 따블로 가겠네요'}, 'review_180': {'nickname': '4**0', 'hash_id': 'f4vc23a', 'review': '숲세권이라 좋구 아파트 통합관제도 잘되어있고 \\n주말마다 남한산성 올라갔다가 막걸리한잔하고 오면 천국이 따로없어요'}, 'review_181': {'nickname': '위례새댁', 'hash_id': '2vPD884', 'review': '코로나 시대에 앞으로 중대형 숲세권은 프리미엄이죠. 위례는 서울이라고 봐야되는데 이만한 입지에 중대형에 신축에 숲세권 끝판왕인 그린파크... 아파트 단지 조경도 위례에서 탑입니다.'}, 'review_182': {'nickname': '그린', 'hash_id': '2lrofbf', 'review': '태릉골프장 대체지로 성남골프장을 염두에 두고 있는거 같습니다.\\nhttp://v.media.daum.net/v/ ****-****-**** 471...더보기'}, 'review_183': {'nickname': '이윤규', 'hash_id': '19Fhfb3', 'review': '성남gc가 어떻게 되느냐 따라 가장 영향을 많이 받을듯'}, 'review_184': {'nickname': '발렌', 'hash_id': 'axJX7d0', 'review': '날씨 좋은 지난 주말  단지카페에서 사온 아아메 마시며 거실뷰 감상하니 평일 스트레스 다 날라가네요  그러나 오늘은 또 월요일 ㅠㅠ'}, 'review_185': {'nickname': '위례새댁', 'hash_id': '2vPD884', 'review': '7월8일 현재 뷰 매물은 없고 6월말 14억 매물 집주인이 계좌안주고 거래불발. 뷰라인은 매물이 없기때문에 실거래가 안나오고 있음. 최소 15억부터 시작. 나머지 12억대는 3층이하저층 단지, 도로뷰임.'}, 'review_186': {'nickname': '헬로그린', 'hash_id': 'eCnq518', 'review': '조망만 보시지마시고 학군과 향후 연장선이 들어왔을 때 등 투자가치면에서도 보시기바래요. 여러모로 나무랄데없는 단지입니다.!~'}, 'review_187': {'nickname': 'newluchia', 'hash_id': 'bvM62a4', 'review': '장점: 1. 광폭 주차장 충분한 세대당 주차 댓수 - 전 집살때 주차장이 정말 중요해요 별거 아닌것 같은데 자차로만 움직이는 사람들은 주차공간이랑 주차댓수 정말 중요해요. 저흰 2댄데 여긴 추가금이 없어서 별거 아닌것 같은데 돈번 느낌 \\n2. 숲세권 : 공기 진짜 달라요. 펜션이나 리조트 놀러가면 새벽녘 느껴지는 그런 싱그러움이 있어요. 요즘 미세먼지다 코로나다 외부 출입을 최소화 해야 하는데 집에만 있어도 갑갑한 느낌이 없어서 아주 맘에 들어요\\n3. 잘 정돈된 단지 조경 : 애기가 없을땐 솔직히 일하고 잠자는 곳이 집이 었어요. 그래서 놀이터 조경의 중요함 잘 몰랐는데 아이가 생기고 나니 바로 집앞의 시설물들이 정말 중요하더라고요 여긴 세대수도 많고해서 그런지 놀이터도 세개이고 단지내만 걸어도 공원 산책 하는 느낌 나요 \\n4.커뮤니티 센터 : 있어도 이용하는게 쉽진 않은게\\n현실 인데 또 없으면 불편한거 같아요. 언제든 작심삼일 다이어트 결심하면 헬스장 바로 고고 . 골프연습장도 있어요 . \\n5. 세대 창고 ; 저흰 잡다한 짐이 많은 집이라 이게 아주 효자역할 하다라고요 ~~ \\n6. 학군 : 초품아는 아니지만 요즘 초품아도 저학년은 부모님들이 다 등하원해주시니까 차로 2분거리더라고요 라이딩 해주시면 크게 불편없을것 같아요 . 하원은 학원버스로 주로 한데요\\n\\n7. 주변 상업 시설 : 외진것 같다고들 많이 하시는데 걸어서 십분이내로 [ 어른걸음 집에서 나서는 순간 부터 ]호반앞 상가 가면 은근 다 있어요. 물론 시간은 동마다 차이 있어요. 전 자차로 주로 움직이고 식구가 많지 않아 장은 주로 온라인 이용해서 불편함은 전혀 못느끼고 있어요 \\n\\n어떤 집을 선택하시든 세상 다 가질순 없어서 내 라이프 스타일에 머가 맞냐가 가장 중요한것 같아요 내가 살집이니까요. 전 그린파크가 저랑 찰떡이에요 조용하고 공기 좋고 집이 힐링이 되는 공간 이에요 \\n그런 장점이 있기에 슈퍼 좀 걸어 가는거 식당가랑 조금 먼것 이런건 저에겐 단점이 되질 않네요 ????\\n\\n숲세권 힐링 거주만족도 200 점이에요 ????'}, 'review_188': {'nickname': '주디', 'hash_id': 'aT13985', 'review': '음.... 주민들이 정보에 어둡고 그거를 떡방들이 잘 이용해서  이렇게 장기간 방치되어 끄트머리지만 위례에서 나름 잘 나가던 시세가 아작이 났네요. 원하는대로 아작내놓으니 만족하나요? \\n10동 펜트하우스 23.5 소리소문 없이 거래된 동안\\n18억이라며 열심히 소개하던 떡방 보고 계시죠??\\n  능력 죽여주는듯 . 23.5 뜨고 다 삭튀하고 모른척 또 일반매물 후려치고 있네요. 아~~~ 빡쳐. 남의 재산권침해로  업보 충분히 쌓았으니 자손이 다 물려받겠네요^^ 축하해요 ^^'}, 'review_189': {'nickname': '0**0', 'hash_id': '8OIkd0e', 'review': '저는 위례로 이사오고싶어서 2년전부터 위례에 있는 모든 아파트를 다 가보았어요.송파권은 상권이 편리한데 주상복합이라 단지 조경이 빈약하더라구요.저희는 숲을 좋아해서 그린파크를 눈여겨 보았어요. 얼마전 단지를 돌아보다 감탄을 했습니다. 대박~너무 예쁘게 조경이 잘 조성되어 있었어요.뒤쪽으로 청량산이 배경이라 공기도 다르구요. 저는 B타입이 마음에 들어서 정남향B타입으로 샀답니다. 제가 모든 위례아파트를 다 가보았는데 실내나 조경은 최고 였어요. 지금도 너무 마음에 드는 집을 사서 기뻐요. 강남 오래된 아파트에 살다가 새 집으로 이사가서 너무 좋아요. 지금은 사람들이 가치를 잘 모르는거 같은데요주택지로는 중앙역 복잡한데보다 훨씬 좋아요~나중엔 비버리힐즈같은 고급 아파트가 될것 같아요. 어서 빨리 이사가고 싶어요~^^'}, 'review_190': {'nickname': '자스민', 'hash_id': 'emES417', 'review': '1. 정말 조용해서 좋아요\\n숲도 있고 산으로 갈수있는길도 바로 옆이여서\\n산책좋아하시는분 추천이요\\n\\n단점을 꼽자면\\n식당이 별로없어서 시켜먹거나\\n트랜짓몰로 가야해요 외식하려면\\n\\n근데 요즘 워낙 배민 등 배달이잘되서\\n큰불편함은 없었어요\\n\\n딱 하나아쉬운건 스벅커피집이 멀다 흑흑'}, 'review_191': {'nickname': '입주예정', 'hash_id': 'e4dzd20', 'review': '조망안나오는곳이랑 나오는곳 시세차이가얼마나 날까요?'}, 'review_192': {'nickname': '발렌', 'hash_id': 'axJX7d0', 'review': '요즘 날 좋아, 매일 오전 주변 어린이집과 유치원에서 \\n단지에서 이어지는 산책로 통해 숲체험하러 다니네요. \\n뻐꾸기 오리꽥꽥 소리에 우와하는 아이들 너무 귀여워요  ♡'}, 'review_193': {'nickname': '자연', 'hash_id': 'cH79367', 'review': '딱한번 가보고 맘에들어 계약했습니다 주차장부터 조경 주변환경 빼지는것이없네요~'}, 'review_194': {'nickname': '지와니', 'hash_id': '3tFX587', 'review': '공기도 좋고 뷰도 너무 좋아요.\\n아침에 문을 열어놓으면 새소리가 들리고\\n봄에는 아카시아향기가 창문을 통해 들어옵니다.\\n거주만족도가 높아요~~'}, 'review_195': {'nickname': '위례주민', 'hash_id': '8FuLc53', 'review': '이사온지 얼마 안됐는데 너무 좋아요~~\\n저녁에 산책할때는 숲같은 조경때문에 공기도 좋습니다.\\n주거만족도가 큰 아파트임은 확신해요!!'}, 'review_196': {'nickname': '그린이좋아', 'hash_id': 'dmVS782', 'review': '거실에서 보이는 풍경이 답답한 앞동 아파트가 아닌 그림같은 산풍경이라 너무 좋습니다. 아파트 건물도 큰 하자없이 잘 지어진 것 같습니다. 자부심 강한 아파트 입니다.'}, 'review_197': {'nickname': '브리앙', 'hash_id': '3k036a3', 'review': '리조트조경. 똥손으로 막 찍어 본\\n그린파크의 봄. 조망세대의 봄은 넘사벽일 듯\\n가리는 것 하나 없이 남한산성 절경 느낄 수 있음\\n1호라인의 경우는 거실 안방 작은방 모두'}, 'review_198': {'nickname': '7**5', 'hash_id': 'cyFN113', 'review': '조망권 저층의 경우 습기는  심하지않은지 궁금해요'}, 'review_199': {'nickname': '브리앙', 'hash_id': '3k036a3', 'review': '조경 솔직히 죽입니다. \\n아파트정원이 남한산성 품은 청량산입니다\\n 골프장 곳곳 해저드가 있어  오리 왜가리들 겁나 자주 놀러옵니다. 요즘은 딱따구리가 자주 들립니다. 소음적고 거주지로 이보다 만족스러울 수 없죠. \\n코로나바이러스로 중대형+친환경+신축 트랜드에 딱입니다.\\n원래 위례에서 탑클래스 가격이다가 역세권트랜드에 밀려 지금 절호의 찬스라 봅니다. 코로나로 트랜드 판도에 변화가 생겼죠. 무엇보다 위신선 하남연장 대광위에 용역중이므로 향후 역세권+숲세친환경 최고의 아팟으로 거듭나 개포 과천에 비견할만하다 평가합니다.  그리고 이사 전 풍수사가 좋게 평한 곳입니다'}, 'review_200': {'nickname': '호야맘', 'hash_id': '8zh8e16', 'review': '숲세권 이라 공기좋고\\n조용하고 \\n살기 좋아요\\n만족도가 큰 아파트\\n주차장도 넓어서 \\n여기 살다가 다른 데 가면\\n금방 불편을 느낄 듯 ㅎ'}, 'review_201': {'nickname': '개미허리', 'hash_id': '3Yj3f30', 'review': '위례에서 가장 산쪽에 있어서 너무 조용함'}, 'review_202': {'nickname': 'jhjh', 'hash_id': '2DPE534', 'review': '장점: 조용함, 산책하기 좋음, 의외로 근처에 다있음(영화관, 마트, 도서관)\\n단점: 차없으면 삶의 질이 떨어짐'}, 'review_203': {'nickname': '듀크', 'hash_id': '94jO5cd', 'review': '공기도 좋고 경치도 그만이고\\n살기 너무너무 좋아요~~'}, 'review_204': {'nickname': '위례새댁', 'hash_id': '2vPD884', 'review': '전세가가 근처 타단지들보다 높은 이유가 다 있습니다. 전세가=실거주만족'}, 'review_205': {'nickname': '7**5', 'hash_id': 'cyFN113', 'review': '비조망권 130a타입 저층은 일조량이 어떤지 궁금해요'}, 'review_206': {'nickname': '위례맨', 'hash_id': '7saSc6b', 'review': '45평형은 펜트만 있나요?\\n시세가 얼마나 하나요?'}, 'review_207': {'nickname': '2**9', 'hash_id': 'crEccdc', 'review': '대체로 좋고 딱히 나쁜 점은 없는데 종종 하자가 나오는 편'}, 'review_208': {'nickname': '꾸로쿠롱', 'hash_id': '4vVya51', 'review': '대중교통이 들어오기 전에는 많이 불편했는데 요새는 빨간버스들을 포함해서 대중교통들이 본격적으로 들어오고 좋아짐'}, 'review_209': {'nickname': 'Bravockim', 'hash_id': '3Jgja61', 'review': '거실에서 바라다 보이는 푸른 그린과 청량산의 사계절을 만끽할 수 있는 조망은 위례 내 그린파크가 유일합니다. 놀러 오세요!'}, 'review_210': {'nickname': 'YSK1793', 'hash_id': '334K64b', 'review': '산 밑이라 위례다른곳보다 좀더 추워요\\n여름엔 조금더 시원하고요 ㅎㅎ'}, 'review_211': {'nickname': '횰투', 'hash_id': '3NHhe56', 'review': '그린파크 이름처럼 조경도 너무 잘되어있습니다 남한산성 산책로도 연결되어 너무 좋구여 하남 스타필드도 가까이 위치해 생활환경이 너무좋습니다'}, 'review_212': {'nickname': '매카닉', 'hash_id': '1d6F603', 'review': '산과 바로 붙어있는 단지로 공기부터가 타단지와 다름..\\n중앙역과 약 800미터로  역세권임에도 아직 저평가 상태\\n\\n지하창고 있고 구조 및 면적 측면  위례 최고임\\n하남선 연장시 초 역세권'}, 'review_213': {'nickname': 'HohoAzum', 'hash_id': 'b0E5435', 'review': '위례그린파크푸르지오는 바로옆 남한산성 등산로를 이용하며 남서울골프장 뷰에 공기 좋고 아름다운 단지랍니다~^^'}, 'review_214': {'nickname': '박마리', 'hash_id': 'b3GG074', 'review': '좋아요 버스정류장도 가깝고 뒤가 바로 산이라서 공기도 좋습니다. \\n단점은 딱히 없는거 같을 정도로 좋고 단지 관리도 잘되는 편이에요. 주차장도 널찍하고 쾌적합니다.'}, 'review_215': {'nickname': '그린파크요', 'hash_id': '3iof528', 'review': '부동산에 따르면 강남, 잠실에서도 많이들 오시지만 주변단지들에서 매매로 오시는 분들이 많답니다.  \\n위례내에서도 선호도가 가장 높은 단지라는 얘기죠. 그만큼 실거주로는 최고인 단지입니다.'}, 'review_216': {'nickname': '민들레', 'hash_id': 'aTCi828', 'review': '너무좋은점이\\n 많은 아파트 같아요~~^^\\n\\n장지역에가는\\n직선코스버스가있나요?'}, 'review_217': {'nickname': '김아빠', 'hash_id': 'aYTna80', 'review': '위례그린파크푸르지오는 남한산성공원과 근린공원 골프장에 연접한 요즘마로 숲세권 대표단지로 위례에서 대형평여으로 이루어진 단일평형 대형단지로 실거주에 최적화된 곳입니다..'}, 'review_218': {'nickname': '여기요', 'hash_id': '3iof528', 'review': '학군갑 조망갑.  래미안, 자이, 힐스테이트와 더불어 위례내 고급단지. 상대적인 저평가로 오를 여력이 많은 곳. 연장선도 추진중이라 향후 투자가치로도 최고.'}, 'review_219': {'nickname': '브리앙', 'hash_id': '3k036a3', 'review': '지하주차장에 클래식이 흐르는 관리 잘 되는 \\n고급아파트'}, 'review_220': {'nickname': '짱난다', 'hash_id': 'aT13985', 'review': '위례1등을 1년만에 \\n18년 13억 찍을 당시 10억겨우 넘던 곳들이랑 비슷한 수준까지  후려쳐놓다니!!\\n자식, 가족들이 대신 다 업보 받으세요????\\n같이 13억 찍던 래미안, 힐스테이트 송파는 16억 하는데 여기는 기가 차네요ㅋㅋㅋㅋㅋㅋㅋ\\n13억에 10월달에 팔고도 모른척하고  열심히 11억 12억에 팔아대놓고 12월에 실거래 보이지도 않게 뜨고 나니 다시 12억 13억 이제야 후려치고  심지어 11억 얘기하고\\n자기 집이어도 장난칠까? \\n국방부나 하남시에서도 매각은 커녕 반환도 안 된 골프장을 팔렸다고 불안감 조성시키고!! 아 열받는다'}, 'review_221': {'nickname': '발렌', 'hash_id': 'axJX7d0', 'review': '도곡동 살다 이사 온 친구집 놀러왔다가 처음 위례를 알게 되었고 수차례 임장 끝에 결정했습니다 . 대치개포구축에만 살다가 새아파트 위례그린파크푸르지오 왔어요. 사정상 이번 가을에서야 처음 청량산 정취를 느껴보았습니다. 설산은 아직 못 보았는데 얼른 눈이 오기를 기다리고 있어요 . 너무 멋질 것 같아요  ><  강남대체신도시라 그런가 강남키즈들이 많이 사는 동네인 것 같아요 !!'}, 'review_222': {'nickname': '유후', 'hash_id': '3iof528', 'review': '여유있는 분위기지만 학군은 위례 탑.'}, 'review_223': {'nickname': '노래쟁이', 'hash_id': 'kVOdc0', 'review': '완벽한 조경과 숲의 치유가 있는 곳.\\n걸어서 5분이면 학원, 병원 등 대형상권을 만나는 곳.\\n학군 뛰어난 위례초중고를 접한 곳.\\n강남 다주택자들이 전원주택처럼 마련한 곳\\n지하주차장 슈퍼카들이 즐비한 곳.\\n여유있는 경제력만큼 민도도 훌륭한 곳입니다.'}, 'review_224': {'nickname': '안진', 'hash_id': 'aMbWec0', 'review': '위례그린파크에 만 3년 살았습니다. 그동안 송파, 목동, 분당 살다 이곳에 오니 이제야 평생 살곳에 안주했다는 생각을 합니다. 사시사철 각각 다른 산수화를 남한산성으로 즐기고 매일 오르내리는 산책길은 노후까지 책임질 건강을 보장합니다. 아침에 창문을 열면 온갖 새소리와 함께 쾌적한 공기는 미세먼지 걱정을 싹 씻어줍니다. 여름엔 위례중앙쪽보다 3도이상은 시원함을 누구라도 느낍니다. 주변 숲이 보너스라면 단지내 조경은 위례에서 단연 최고죠! 몇십년생 고급 적송이 단지 내에 있는 작은공원들을 멋지게 지키고 있습니다. 매일이 만족한 주거환경입니다^^'}, 'review_225': {'nickname': '위례새댁', 'hash_id': '2vPD884', 'review': '위례내 학군지는 하남위례임이 이번 입결에서 증명된거 같네요. 그린파크에서 위례고까지 엎어지면 코닿을거리... 조만간 숲세권 대장에서 학군대장 단지가 될거같네요'}, 'review_226': {'nickname': '요요', 'hash_id': '3iof528', 'review': '위례내 최고 학군~ 이번 입시결과가 증명~ 차분하고 조용한 분위기는 따라갈 곳이 없음.'}, 'review_227': {'nickname': '발렌', 'hash_id': 'axJX7d0', 'review': '서재로 쓰는 작은 방 조망이에요.\\n안정감 들고 평화로워요.'}, 'review_228': {'nickname': '매물갯수', 'hash_id': '3k036a3', 'review': '지금 특정 부동산에서 50개정도는 하루에 올린 것 같은데\\n50개 매물  다 볼 수 있는 건가요?\\n4년치 거래량이 70건인데 나온 매물이 50개라'}, 'review_229': {'nickname': '길안내', 'hash_id': '3k036a3', 'review': '안내읽어보세요'}, 'review_230': {'nickname': '그린그린', 'hash_id': '3k036a3', 'review': '단지 전용 주출입구가 등산로로 연결되어 전망대도 20분 코스로 가볍게 갈 수 있고 수어장대까지 1시간30분 정도면 갑니다. \\n산책코스가 너무 좋습니다'}, 'review_231': {'nickname': '0**6', 'hash_id': 'adR63b6', 'review': '산 뷰가 좋고 아파트단지내 조경은 위례내 최고인ㅌㅅ'}, 'review_232': {'nickname': '좋은집', 'hash_id': 'aa5l278', 'review': '군더더기 1도 없는 깔끔한  구조!!\\n대부분의 집들이 거실뷰도 좋더라구요'}, 'review_233': {'nickname': '댕댕이', 'hash_id': '3iof528', 'review': '위례 대장주. 조경 조망이 많이 부각되었지만 실제로는 교통 학군 민도 면에서 어느것 하나 치우침이 없다. 중앙쪽까지는 도보로 가능한거리(10-12분)로 주말에 슬슬 나가 산책하기 좋으면서도 적당한 거리로 번잡함, 소음의 영향권에서는 벗어난다. 호반쪽 상가와 학원은 도보로 5분 거리면서 천혜의 자연환경은 코앞. 무엇보다도 단지앞에 일직선으로 나있는 도로는 바로 서울쪽과 연결. 출퇴근시간 제외하면 삼성의료원까지 10-15분안에 도착. 학군은 중대형 민영아파트 학군지. 민도는 말로 설명해도 살아봐야 주민들의 품격을 느낄 수 있음. 단지 인터넷 카페에 시와 시조를 논하는 카페가 몇이나 될까...'}, 'review_234': {'nickname': '햇살', 'hash_id': '1Llu299', 'review': '평생 남한산 조망권이  있어 사계절을 느낄 수 있는 펜션 같은 아파트이군요.'}, 'review_235': {'nickname': '위례새댁', 'hash_id': '2vPD884', 'review': '****\\n\\n위례 하남선 연장에 파란불이 켜졌습니다.\\n\\n위례하남선 연장시 그린파크는 숲세권+초역세권이 되는 단지가 됩니다'}, 'review_236': {'nickname': '위례토토로', 'hash_id': '2vPD884', 'review': '이정도는 되야 숲세권이겠죠. 위례에서 단지내 조경 탑이고 숲세권 뷰도 탑인곳. 앞으로는 숲세권이 대세입니다.'}, 'review_237': {'nickname': '오늘은 행복', 'hash_id': '4kFl385', 'review': '그린파크 뷰 궁금하시면 여기 유튜브 영상 보셔요. 잘 나와있어용.\\n\\n****'}, 'review_238': {'nickname': '다시해보자', 'hash_id': '8i261d4', 'review': '조용하고 녹지를 누릴수 있는 아파트입니다'}, 'review_239': {'nickname': '하얀새', 'hash_id': '9Vo7daa', 'review': '숲세권에 조용하고 남한산성 올라가는 길이 바로 옆에 있어\\n너무 좋았어요  단점은 교통'}, 'review_240': {'nickname': 'Jung', 'hash_id': '8y7356d', 'review': '팬션에   와있는  느낌이고   창 문열면  새소리  물소리가  들립니다    비오고   눈오면   더욱  절경이에요'}, 'review_241': {'nickname': '홍따로', 'hash_id': '9iefae7', 'review': '청량산의 맑은 공기가 아침을 상쾌하게 열어주는곳,\\n사계절내내 피톤치드를 돈 안들이고 맘껏 들이킬수있는 아파트. 새소리들이 어찌나 아름답고 좋은지 이곳을 떠나고 싶지않습니다^^\\n다른 아파트에서는 전혀 느낄수없는 자연의환경을 온몸에 그대로 받을수있답니다.\\n단지안에 조경시설은 누구도 상상못할정도의 아름다운 조경으로 이뤄져있고 계곡을 바라보며 차한잔 마시면 이곳이 살기좋은 천국아파트구나 생각될것입니다.\\n강남 아파트 하나도 안부럽습니다.\\n건강한 삶이 최고아닐까요?\\n숲세권중의 왕! 그팍 최고랍니다~~^^'}, 'review_242': {'nickname': '짱아이모', 'hash_id': 'UYbb52', 'review': '그린파크푸르지오 입주때부터 3년간 살았습니다.\\n위례 내의 아파트 중 최고의 자연환경을 가지고 있는 아파트입니다.\\n그냥 숲세권 정도가 아니고 그냥 캠핑장 한가운데에 자는 느낌?\\n숲세권 아파트의 경우 외지거나 상권이 없는 경우가 많은데 그린파크는 위례신도시 내에 위치하여 서울 접근성이 좋고 상권도 한블럭 정도에 학원가 병원 등등 아주 편리합니다.\\n숲세권을 원하시는데 도시를 떠나시기 싫으신 분께 강추드립니다.'}, 'review_243': {'nickname': '볼수록', 'hash_id': '7oYD565', 'review': '일딴 공기 넘 좋다\\n산책코스 및 등산로 진입 좋다'}, 'review_244': {'nickname': '그린이', 'hash_id': '8pkh443', 'review': '단지에 들어서자마자 공기가 틀려집니다 조경좋고 조망좋아요'}, 'review_245': {'nickname': '푸르지오짱', 'hash_id': '7yul0c9', 'review': '실현된다면 큰 호재입니다만..\\n내년 착공예정인 위례-신사선 종점이 현재 계획은 위례중앙역인데, 하남시 제안으로 푸르지오 인근까지 1코스 연장(과업구간 0.9km)하는 계획안입니다. 꼭 실현되길 기대합니디. ※ 관련자료 : 경기도 철도정책과 공청회자료, 과업명칭 : 위례-하남선(1코스 연장)'}, 'review_246': {'nickname': '숲세권', 'hash_id': 'yQN6bc', 'review': '산속공기가 정말 좋죠. \\n어려서 시골가면 느낄수  있는 공기예요.'}, 'review_247': {'nickname': '오연숙', 'hash_id': '4XsH09c', 'review': '아침엔 새소리, 밤에 개구리 소리와 함께 자연속에 있는 그린 아파트입니다'}, 'review_248': {'nickname': '김성민', 'hash_id': '8ucH4a0', 'review': '주변 다른 아파트들에 비해 산쪽이라 조용하고 공기좋아요. 현관로비, 엘레베이터, 산책로, 헬스장 등 부대시설도 월등히 좋아요. 내부 인테리어도 옛날식 브라운톤이 아닌 트렌디한 화이트 컬러라 친구들이 저희 집 와보더니 돈주고 인테리어를 따로 했냐고 하더라고요.\\n한가지 단점은 시내로 나가는 서울 광역 버스 등이 위례중앙타워쪽 집중되어있어서 대중교통이 좀 불편해요. (위례중앙 트랜짓몰로는 도보 15분, 버스 1-2정거장 정도로 가깝긴 해요)\\n자가용 있고, 직장 강남권 혹은 분당권인 분들에게 추천드립니다! 대중교통 빼곤 다 좋아요:)!'}, 'review_249': {'nickname': 'Sj', 'hash_id': 'tU9be6', 'review': '공기 좋고 건강에 최고인 단지입니다.'}, 'review_250': {'nickname': '팩트만적음', 'hash_id': '1CzFcad', 'review': '단순히 이 앱 다른 아파트 이야기 보려고\\n현재 살고 있는 그린파크푸르지오 간단하게\\n의견 남겼다가 댓글들이 달리길래 제대로 씁니다\\n\\n도로쪽 동이고 그 중에서도 도로에 붙어있는 집입니다\\n9-11 사이 층 살고 있습니다\\n첫입주 때부터 3년반 넘게 살고 있습니다\\n부동산 시세가 떨어지건 오르건 향후 10년은\\n팔 생각이 없기 때문에 제가 살면서 느낀점만 적습니다\\n\\n\\n장점\\n1. 단지 내 조성 : 진짜 잘 되어있습니다. 신생아 데리고 어디 갈 필요 없이 단지만 돌아도 충분합니다. 제가 아파트 3군데밖에 못 살아봤지만 역대급입니다. 여름밤 되면 개구리 소리 엄청 들리길래 개구리도 사네 싶었는데 그건 녹음한 거 틀어놓은 거라길래 웃었는데 그래도 분위기 조성하는데 한 몫합니다.\\n\\n2. 공용시설 : 까페, 헬스장, 골프연습장 등 좋습니다. 어린이 도서관 같은 것도 있던데 이용은 안 해봤어도 지나가면서 보면 괜찮은 거 같습니다.\\n\\n3. 주변환경 : 단지 양 끝에 있는 산책로 타고 올라가다 보면 남한산성까지 이어져 있다고 들었습니다. 저는 게을러서 끝까지 올라가본 적은 없고 중간에 무슨 공원같은 거 있는데 거기까지만 종종 다녔습니다. 산 바로 아래 있어서 그런지 다른 지역은 말할것도 없고 위례 중앙쪽과 비교해도 온도가 더 시원한 거 같습니다.\\n\\n4. 층간소음 : 거의 없습니다. 요즘 방학이라 그런가 위층에 초등학생이 뛰어다니는데 스트레스 받을 정도는 아니고 그냥 애가 좀 뛰나보다 하고 맙니다. 생활소음도 거의 못 느낍니다. 이 정도면 거의 없다고 봅니다.\\n\\n\\n단점\\n\\n1. 교통 : 나중에 지하철이나 트램 들어서면 해결될거라 보지만 현재 기준으로는 차 없으면 어디 다니기 힘듭니다. 저 같은 경우는 직장이 강남이라 위례에서 대중교통으로 출퇴근하는데 좀 힘듭니다. 보통 2가지 경우로 다닙니다. 33번 타고 강남역까지 논스톱(버스를 타면 50분 정도 걸리지만 배차간격이 20-30분이라 좀 힘듭니다)으로 가던가 31번 타고 석촌역까지 가서 9호선 타고 신논현역까지 갑니다(이 경우 평균 1시간 10분 소요). 저 같은 경우는 환승횟수를 최소화하려고 저 두 경로만 이용하는데, 복정역이나 장지역 이용하면 덜 걸릴 수 있다고 들었습니다. 조만간 시도해볼 생각입니다. 위례진입 도로 중에 장지역에서 들어오는 구간이 제일 막히는데(외곽순환에서 들어오는 차들이랑 엉켜서) 이 부분은 현재 따로 도로 공사중인 거 같던데 조만간 어느정도 풀리지 않을까 기대중입니다.\\n\\n2. 상권 : 이 부분은 의견이 많이 갈릴 거 같은데 단순히 제 주관적인 견해입니다. 단지 내 상가에 이용할만한 건 편의점이란 크림토피아뿐이고, 그나마 근처 상가까지는 호반 단지를 끼고 있어서 거리가 있습니다. 시간은 걸어서 5분도 안 걸리지만 마트 가서 장 보기엔 애매합니다. 차 끌고 가거나 해야하지만 요즘 마트에서 왠만한 건 전부 배달해주니 큰 불편은 아닙니다. 중앙상가까지는 걸어다니긴 힘듭니다. 차 끌고 가야합니다.\\n\\n3. 소음 : 앞서 간단히 적었던 글에 이 얘기만 썼었는데 아니라는 글이 많아서 길게 적었습니다. 창문 닫아놓으면 소음 걱정 아예 없습니다. 창문 열고 지내면 낮에 비행기가 종종(자주 아닙니다) 다니는데 소음이 들립니다. 개인적으로는 저는 크게 신경 안 썼는데 어머니나 와이프는 크다고 했습니다. 전 오히려 버스 소음이 더 신경쓰입니다. 도로쪽 동에서도 도로에 붙은 집이라서 창문 열어놓으면 버스 지나갈 때 소음이 꽤 거슬립니다.\\n\\n\\n가장 큰 장점 중에 숲망권? 이 제일 끝내준다는데 그건 안쪽동 사는 분들 얘기고 도로쪽 동은 그런 거 없어서 안 적었습니다. 다른 분들 쓰신 글의 사진 보시면 될 거 같습니다. 제가 봐도 예술이네요. 이만 마칩니다.'}, 'review_251': {'nickname': 'Dal', 'hash_id': '7xXM4ae', 'review': '공기좋고, 한여름에도 복정역과는 2도나 차이가 나곤해요. 거주한지 1년반 좀 안됐는데 철마다 바뀌는 산을 보는게 정말 좋고, 비가오면 비가 오는대로 산에 구름낀 모습도 아름답고 너무 만족스럽습니다. 사진이 3장밖에 안 올라가네요'}, 'review_252': {'nickname': 'Maverick', 'hash_id': '6aoa035', 'review': '위례스타필드시티/이마트트레이더스가 도보로 이동 가능할 정도로 가깝고 위례초/중/고가 인접해서 애들 학교보내기도 좋습니다.\\n\\n교통은 지하철역은 복정역, 장지역이 인접하나 버스를 이용해야하는 부분이 좀 아쉽습니다만 향후 위례신사선·위례과천선·위례트램·8호선 위례역 개통 계획 등 다양한 교통 호재가 예정되어 있습니다.\\n\\n숲세권으로 청량산 등산로가 단지와 연결되어 있고 조경 또한 이름처럼 친자연적인 환경으로 조성되어 있습니다.\\n아침마다 아름다운 산새소리를 들으며 일어날수 있어요. ^ ^'}, 'review_253': {'nickname': '방가방가', 'hash_id': '3vr4525', 'review': '질릴때쯤 계절이 바뀌어서 안 질리네요\\n남한산성과 청량산이 주는 숲세권매력이 큽니다'}, 'review_254': {'nickname': '짱구', 'hash_id': '64E3952', 'review': '그린파크는 사시사철 자연의 아름다움과\\n깨끗한 환경을 그대로 보고 느낄 수 있는\\n아파트 입니다^^\\n교통편도 많아지고,,\\n향후 위례신사선이 생기면 중앙역까지 즐겁게\\n걸어 갈수 있는 거리입니다^^'}, 'review_255': {'nickname': '까미줌', 'hash_id': '7j4K41c', 'review': '새소리에 잠을 깨는 곳으로 단지내 헬스장에서 청량산 숲을 보며 운동 할 수 있는 곳이며 잘 정비된 등산로가 연결되어 있어 조금만 부지런하면 아주 건강하게 생활할 수있는 환경임. 내가 살았던 동에서는 비가 오면 등산로옆 개울물 소리가 들릴 정도라 어디 깨끗한 시골집에 있는 기분이 들 정도. 전체적으로  맑고 조용하고 여유가 있는 느낌의 아파트라 생각함'}, 'review_256': {'nickname': '김동대', 'hash_id': '7hiXfde', 'review': '아파트 정면에 남한산성과 골프장을 바로볼 수있고\\n남한산성으로 연결되는 등산로가 있어 매일\\n자연과 더불어 살수있는 장점이 있으면\\n그동안 교통이 다소 불편했으나, 위레신사선 공사가\\n곧 착공되면  강남인근에서 가장 살기좋은\\n아파트 단지라고 자신있게 추천드릴 수 있음~^'}, 'review_257': {'nickname': '노랑빨강초록', 'hash_id': '3k036a3', 'review': '저녁먹고 새소리 개구리 소리 들으며 계류공원 중앙공원 한 바퀴 돌면 여기가 리조트인가 집인가 모루게따'}, 'review_258': {'nickname': '베러', 'hash_id': '4kFl385', 'review': '여기 이동네는 임장 한 번 와본 분들은 잊기 힘들겁니다. \\n단지 내 공기가 얼마나 청량한지 저녁 때 꼭 와서 거닐어 보시길 추천드려요. 백 번 말하는 것 보다 한번에 이 단지에서의 삶이 그려지실테니까요.'}, 'review_259': {'nickname': '굿굿', 'hash_id': '4kFl385', 'review': '장점: 자연환경 최고 뒷산 공기 여름에 물소리 졸졸 펜션에 온 것 같은 기분\\n산을 접해 있는 내부 단지는 버스 소리 차 소리 전혀 안들림 아주 조용하고 쾌적\\n커뮤니티 센터 잘 되어있고 신축이라 깨끗함 \\n주차장 넓고 주차칸 역시 너른 편\\n\\n단점: 교통   최근에 그나마 좋아진건  서울 가는 광역버스 생겨서 그쪽 지역인 경우 출퇴근 많이 편해졌음 \\n\\n\\n총평: 아이 있는 집, 나이 있으신 분들에게는 너무 좋은 환경  신도시 깨끗하고 산책로 잘 되어있고 청량산 등반로도 잘 되어있음  환경적으로 정말 서울 근교에 더할나위없이 좋은 곳  아예 기온이 더 낮음'}, 'review_260': {'nickname': '위례의아침공인중개사사무소', 'hash_id': '4aaac15', 'review': '머무르고 싶은 위례신도시 숲세권 그린파크푸르지오만의 열가지\\n\\n넷째, 내부구조 개성넘치는 4개타입\\n누구나가 선호하는 판상형 A타입\\n드레스룸과 다용도 알파룸\\n\\n부엌구조가 매우 넓은 B타입\\n드레스룸과 다용도 알파룸\\n\\n넣어도 넣어도 남는 수납공간을 담은 C타입\\n안방의 넓은 두개의 창이 바람과 볕을 담아\\n\\n그린파크의 병풍과 같은 산과 골프장을\\n한눈에 바라볼 수 있는 D타입'}, 'review_261': {'nickname': '위례의아침공인중개사사무소', 'hash_id': '4aaac15', 'review': '머무르고 싶은 위례신도시 숲세권 그린파크푸르지오만의 열가지  \\n샛째, 구석구석 이야기 넘치는 테마정원\\n\\n단지초입 민들레 정원과 인공폭포가 있는 중앙정원\\n\\n위례신도시에서도 손꼽히는 사색의 쉼터\\n\\n개구리 귀뚜라미 매미 산새들에게 내어준 마당 한켠'}, 'review_262': {'nickname': '베뉴', 'hash_id': '4ljB334', 'review': '골프장 보임. 여름에 시원.'}, 'review_263': {'nickname': '남한산성', 'hash_id': '4eTdabc', 'review': '뒷편에 남한산성 전망이 있어 4계절이 바뀌는걸 볼수있음'}, 'review_264': {'nickname': '위례의아침공인중개사사무소', 'hash_id': '4aaac15', 'review': '머무르고 싶은 위례신도시 숲세권 그린파크푸르지오만의 열가지 \\n\\n둘째, 대다수가 주인이 머무는 \\n39평형 972세대의 대단지입니다.\\n\\n크고 작음이 없어 단지내 주민들의 격없는 어울어짐이 배려와 융화로 주인세대가 80%에 육박, 1년동안 사다리차 오르내림이 거의 없고  주인의식이 보편적으로 내집 내단지 이웃을 아끼는 배려와 베품이 바탕으로 단지 전체적인 삶의 격을 높이고 있습니다.'}, 'review_265': {'nickname': '위례의아침공인중개사사무소', 'hash_id': '4aaac15', 'review': '머무르고 싶은 위례신도시 숲세권 그린파크푸르지오만의 열가지\\n\\n첫째, 숲...공기...소리...\\n남한산성 줄기와 이어지는 청량산과 맞닿은 단지로 빽빽한 나뭇잎들이 바람에 날리어 함께 소리를 만들어 내고 청량한 공기를 내어주는 사계절이 아름다운 단지랍니다.'}, 'review_266': {'nickname': '노래쟁이', 'hash_id': 'kVOdc0', 'review': '공기... 강원도 리조트급입니다. 힐링..\\n뷰... 사계절 내내 창밖 그림이 환상입니다.\\n교통은 신도시 초기라 아직 완벽하진 않습니다.\\n위례신사선 들어오면 도보 10분~15분\\n위신선연장되면 도보 5분.. \\n\\n앞으로 개포 신축 단지 정도 빼고는 \\n이정도 숲세권과 강남 근접 아파트는 없을거라 봅니다.'}, 'review_267': {'nickname': '위례인', 'hash_id': '2vPD884', 'review': '골프장조망 집에 손님들 올때마다 다들 깜짝 놀랍니다. 진짜 강원도 리조트에서 사는 기분이네요'}, 'review_268': {'nickname': '청량산', 'hash_id': '3asEb2e', 'review': '아침마다 새소리에 잠을 깨는 힐링 아파트입니다. 그냥 리조트 놀러온듯한 기분.'}, 'review_269': {'nickname': '힐링아파트', 'hash_id': '37RN3dd', 'review': '산속에 있는것같은 피톤치드가 아침저녁을 함께하는 최고의 명품아파트에요'}, 'review_270': {'nickname': '부루이웃', 'hash_id': 'Mc7625', 'review': '여기는 정말 매일 여행가는 기분이에요. 서울에 있는 강원도에요.'}, 'review_271': {'nickname': 'Subsun', 'hash_id': '36zs6cd', 'review': '뒤의 골프장 조망 녹지가 정말 좋습니다.교통편은 바로앞에 버스정류장이 단지 정문 입구마다 있어서 역까지 가기에 용이합니다. 조용한 단지'}, 'review_272': {'nickname': '그린팍', 'hash_id': '2Veab40', 'review': '뒤에 산이 있고 아이 키우기 좋아보이나,\\n아파트 단지 전반적으로 노인과 개가 많이 살아서 \\n문화 혜택 제로인 아파트임.'}, 'review_273': {'nickname': '가리', 'hash_id': '1MFMaa3', 'review': '위례쪽 버스가 몇개없는데\\n가락시장역에서 11:45 즘이 막차임\\n저녁에 20분에 한대와서 차없이는 불편'}, 'review_274': {'nickname': '이쁜할머니', 'hash_id': '2I4b8ce', 'review': '장지역이나 복정역까지 버스를 타고 나가야 전철이 연결되는데 버스기다리는 시간까지 합하면 20~30분이 넘게걸립니다 교통빼곤 조용하고 공기좋고 서울에서 전원기분을 느끼며 살수있습니다 눈앞에 골프장이 펼쳐져있고 남한산성을 걸어서 올라갈수있고 밤에는 뻐꾸기소리를 들을수  있습니다 마트는 걸어갈수있는거리에 이마트가 곧 오픈한다고 합니다'}, 'review_275': {'nickname': '보름달', 'hash_id': '2EKS4a2', 'review': '숲세권 아파트의 진가가 100% 드러나는 아파트죠. 전망, 조경 등 주변환경은 최고입니다. 가정어린이집이 없어서(단지내 민간 있음) 아기들은 타 단지로 보내야해요'}, 'review_276': {'nickname': 'BravocKim', 'hash_id': '1S4o49c', 'review': '살아보면 왜 좋은 지 절로 알게 됩니다.'}, 'review_277': {'nickname': '플로놀스', 'hash_id': '1GQNbab', 'review': '훌륭한 조경과, 조용한 환경, 시원한 조망, 그리고 가까운 산책로... 만족도 최고인 아파트네요'}, 'review_278': {'nickname': '입주민', 'hash_id': '1Llu299', 'review': '내부 조경이 뛰어나고 남한산성과 성남 골프장 뷰가 골프리조텔에 온 느낌. 아파트와 바로 연결된 남한산성 둘레길로 산책이나 산행하기 넘 좋음. 아쉬운 점은 아직 교통이 완전히 정비되지 않았으니  전철, 도로 등이 좀더 빨리 완료되면 좋을듯...'}, 'review_279': {'nickname': '금돈', 'hash_id': '26PEeb9', 'review': '자동차가 있으면 최고의 안식처, 없으면 지옥.. 출근때 위례 빠져나가는데 25-30분;; 외곽순환 사고나면 빠져나갈 수도 없이 헬'}, 'review_280': {'nickname': '입주민', 'hash_id': 'JMM2d0', 'review': '자연과 함께하는 집. 바쁜 도시 일상에서 벗어나 언제나 조용하고 안식을 느낄 수 있는 집.'}, 'review_281': {'nickname': 'optime', 'hash_id': '1Llu299', 'review': '남한산의 정기와 풍광을 그대로 느낄 수 있는 자연속 아파트. 공기좋고 경치 빼어나서 늘 콘도에 놀러온 분위기. 서울 대도시에 이런 아파트가 있을까!!! 그것도 위례신도시에 위치하니 정말 좋구나!!!'}, 'review_282': {'nickname': '착', 'hash_id': 'kVOdc0', 'review': '공기...늨 정말 강원도 리조트급..\\n교통.. 자차 아니면 불편하지만 버스 증차되고 있음\\n위신선 들어오면 날아갈 것.. 하남선 연장까지 고려하면 장기적으로 괜찮은 동네..\\n스타필드 들어오면 나갈 일 거의 없을 듯..'}, 'review_283': {'nickname': '위례산성', 'hash_id': '1mGU219', 'review': '쾌적\\n\\n그러나 타위례 단지에 비해 외곽위치'}, 'review_284': {'nickname': '송종찬', 'hash_id': 'czj029', 'review': '주변 환경, 쾌적함은 좋으나 아직은 주변 상업시설이 부족해요'}, 'review_285': {'nickname': '윤석기', 'hash_id': 'lfKm9d9', 'review': '시설 좋음'}, 'review_286': {'nickname': '마르티노', 'hash_id': 'tdqxe69', 'review': '정말 멋지네요!'}, 'review_287': {'nickname': 'JUNKIM', 'hash_id': 'mLuRcc3', 'review': '조용하고 공기좋고 구조좋음'}, 'review_288': {'nickname': '박군희', 'hash_id': 'piQqb9d', 'review': '남한산성 뷰가 정말 좋아요'}, 'review_289': {'nickname': '3**7', 'hash_id': 'odn1f26', 'review': '위례내 최고의 친환경 아파트입니다'}, 'review_290': {'nickname': 'Avery', 'hash_id': 'o6TE981', 'review': '산바람이 불어서 시원하고 좋아요'}, 'review_291': {'nickname': '부라기', 'hash_id': 'lu1g240', 'review': '너무너무 조하요'}, 'review_292': {'nickname': '안병두', 'hash_id': 'kSy47d4', 'review': '더힐'}, 'review_293': {'nickname': 'SUV123', 'hash_id': 'g2jq3aa', 'review': '좋아요 모든것이~~'}, 'review_294': {'nickname': '5**5', 'hash_id': 'fQRof41', 'review': '여름철에 벌레 많지 않나요?'}, 'review_295': {'nickname': '홍순이', 'hash_id': '7WVF9c6', 'review': '제일 끝 아파트라 조용합니다'}, 'review_296': {'nickname': '또리네', 'hash_id': '4fG7167', 'review': '위례 최고의 아파트'}, 'review_297': {'nickname': '송명수MasonSong', 'hash_id': 'g4gld2a', 'review': '정보필요합니다'}, 'review_298': {'nickname': '위례하', 'hash_id': 'fWkL250', 'review': '주차장 클래식음악이 좋아요'}, 'review_299': {'nickname': '슝슝', 'hash_id': '58Ipd9e', 'review': '전정한 숲세권 아파트  입니다'}, 'review_300': {'nickname': '짱짱구리맨', 'hash_id': 'cMQeb19', 'review': '살기 편합니다 단지 교통이 좀..'}, 'review_301': {'nickname': '0**6', 'hash_id': 'a0be278', 'review': '좋아요'}, 'review_302': {'nickname': '아하바바', 'hash_id': '6k4U7c8', 'review': '장점 조망'}, 'review_303': {'nickname': '유지권main', 'hash_id': '1e7U0ff', 'review': '도로접한 동인데 조용해요'}, 'review_304': {'nickname': '궁금이', 'hash_id': 'aAxT1b6', 'review': '좋아요'}, 'review_305': {'nickname': '윤은경', 'hash_id': 'a2yW030', 'review': '버스노선이  많이 있나요?'}, 'review_306': {'nickname': '미니', 'hash_id': 'c4ST4ae', 'review': '좋은동네 좋은 아파트네요'}, 'review_307': {'nickname': '징징이', 'hash_id': '9NvXe3b', 'review': '교통 편의는 어떤가요?'}, 'review_308': {'nickname': '냥아', 'hash_id': '8geI1b3', 'review': '살기좋은 아파트'}, 'review_309': {'nickname': '서아아빠', 'hash_id': 'P77495', 'review': '조용하고 살기 좋네요'}, 'review_310': {'nickname': '김정인', 'hash_id': '8UGj29f', 'review': '전원에 사는 행복^^'}, 'review_311': {'nickname': 'Jonghyun', 'hash_id': '3j7I1bd', 'review': '공기좋은 동네에요 ㅎㅎ'}, 'review_312': {'nickname': '의견부탁드려요', 'hash_id': '7HTmc33', 'review': '센트럴푸르지오랑 비교시 어떨까요'}, 'review_313': {'nickname': '서영민영맘', 'hash_id': '53sp03a', 'review': '^^'}, 'review_314': {'nickname': '쿠날도', 'hash_id': '5KePa3f', 'review': '조망 좋고 분위기 좋고 살기 좋다.'}, 'review_315': {'nickname': '봉용천', 'hash_id': '4t4X0a7', 'review': '정말 그린파크네요'}, 'review_316': {'nickname': '나나썰', 'hash_id': '3R5v112', 'review': '남한산성 뷰가 너무 좋습니다~'}, 'review_317': {'nickname': '볼랑', 'hash_id': '35Ak6d7', 'review': '뷰가 정말^^ 대박이죠'}, 'review_318': {'nickname': '살아본 사람', 'hash_id': '2qdS392', 'review': '은퇴하면 다시 가서 살고싶은곳'}, 'review_319': {'nickname': '위례새댁', 'hash_id': '2vPD884', 'review': '위례안에서 가장 자연친화적인 아파트'}, 'review_320': {'nickname': 'JWanderson', 'hash_id': '1tJG8b3', 'review': '좋은거같아여'}}\n",
      "\n"
     ]
    }
   ],
   "source": [
    "import os\n",
    "import json\n",
    "\n",
    "file_path = os.getcwd()\n",
    "file_name = '\\\\apt_review_dict'\n",
    "\n",
    "with open(file_path+file_name, \"r\") as json_file:\n",
    "    json_data = json.load(json_file)\n",
    "    print(json_data)\n",
    "    print(\"\")"
   ]
  },
  {
   "cell_type": "code",
   "execution_count": null,
   "metadata": {},
   "outputs": [],
   "source": []
  }
 ],
 "metadata": {
  "kernelspec": {
   "display_name": "Python 3.9.6 64-bit",
   "language": "python",
   "name": "python3"
  },
  "language_info": {
   "codemirror_mode": {
    "name": "ipython",
    "version": 3
   },
   "file_extension": ".py",
   "mimetype": "text/x-python",
   "name": "python",
   "nbconvert_exporter": "python",
   "pygments_lexer": "ipython3",
   "version": "3.9.6"
  },
  "vscode": {
   "interpreter": {
    "hash": "31f2aee4e71d21fbe5cf8b01ff0e069b9275f58929596ceb00d14d90e3e16cd6"
   }
  }
 },
 "nbformat": 4,
 "nbformat_minor": 4
}
