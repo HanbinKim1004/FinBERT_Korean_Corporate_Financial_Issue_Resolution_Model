{
 "cells": [
  {
   "cell_type": "code",
   "execution_count": 12,
   "metadata": {},
   "outputs": [],
   "source": [
    "from model import Agent"
   ]
  },
  {
   "cell_type": "code",
   "execution_count": 14,
   "metadata": {},
   "outputs": [
    {
     "data": {
      "text/plain": [
       "(   Topic  Count             Name\n",
       " 0      0     27          0_폭락___\n",
       " 1      1     12    1_목표_주가_이번_년도\n",
       " 2      2    369  2_네이버_상승_카카오_실적,\n",
       "    Topic  Count             Name\n",
       " 0      0     27          0_폭락___\n",
       " 1      1     12    1_목표_주가_이번_년도\n",
       " 2      2    369  2_네이버_상승_카카오_실적)"
      ]
     },
     "execution_count": 14,
     "metadata": {},
     "output_type": "execute_result"
    }
   ],
   "source": [
    "model = Agent('data/comment_2022_Q1_naver.csv', 'best_model')\n",
    "a, b = model.inference()\n",
    "a['topic_info'], b['topic_info']"
   ]
  },
  {
   "cell_type": "code",
   "execution_count": null,
   "metadata": {},
   "outputs": [],
   "source": []
  }
 ],
 "metadata": {
  "kernelspec": {
   "display_name": "Python 3.7.15 ('base')",
   "language": "python",
   "name": "python3"
  },
  "language_info": {
   "codemirror_mode": {
    "name": "ipython",
    "version": 3
   },
   "file_extension": ".py",
   "mimetype": "text/x-python",
   "name": "python",
   "nbconvert_exporter": "python",
   "pygments_lexer": "ipython3",
   "version": "3.7.15"
  },
  "orig_nbformat": 4,
  "vscode": {
   "interpreter": {
    "hash": "d4d1e4263499bec80672ea0156c357c1ee493ec2b1c70f0acce89fc37c4a6abe"
   }
  }
 },
 "nbformat": 4,
 "nbformat_minor": 2
}
