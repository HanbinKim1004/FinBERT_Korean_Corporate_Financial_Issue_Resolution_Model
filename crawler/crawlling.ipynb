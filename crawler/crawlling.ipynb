{
  "cells": [
    {
      "cell_type": "code",
      "execution_count": null,
      "metadata": {
        "id": "RTkrzNtgcGXY"
      },
      "outputs": [],
      "source": [
        "cd Project/crawl"
      ]
    },
    {
      "cell_type": "code",
      "execution_count": null,
      "metadata": {
        "id": "0QPa5DQIeKWs"
      },
      "outputs": [],
      "source": [
        "!pip install konlpy\n",
        "!pip install pdfminer3\n",
        "!pip install OpenDartReader\n",
        "!pip install random_user_agent"
      ]
    },
    {
      "cell_type": "code",
      "execution_count": null,
      "metadata": {
        "id": "rtjjmjs7c06x"
      },
      "outputs": [],
      "source": [
        "print('====================================')\n",
        "print('Start Analyst Report!')\n",
        "!python analyst.py --company '셀트리온' \n",
        "!python analyst.py --company '삼성바이오로직스' \n",
        "\n",
        "print('====================================')\n",
        "print('Start Dart!')\n",
        "!python dart.py --company '셀트리온'  --ticker '068270'\n",
        "!python dart.py --company '삼성바이오로직스' --ticker '207940'\n",
        "\n",
        "print('====================================')\n",
        "print('Start Naver Jongto Comment!')\n",
        "!python comment.py  --company '셀트리온' --ticker '068270'\n",
        "!python comment.py --company '삼성바이오로직스'  --ticker '207940'\n",
        "\n",
        "print('====================================')\n",
        "print('Start Naver News!')\n",
        "!python news.py --company '셀트리온' \n",
        "!python news.py --company '삼성바이오로직스' \n",
        "\n",
        "print('====================================')\n",
        "print('Start Naver Jonto Comment!')\n",
        "!python comment.py  --company '셀트리온' --ticker '068270'\n",
        "!python comment.py --company '삼성바이오로직스'  --ticker '207940'\n",
        "\n",
        "print('====================================')\n",
        "print('Start Naver News!')\n",
        "!python news.py --company '셀트리온' \n",
        "!python news.py --company '삼성바이오로직스' "
      ]
    }
  ],
  "metadata": {
    "colab": {
      "provenance": []
    },
    "kernelspec": {
      "display_name": "Python 3.9.6 64-bit",
      "language": "python",
      "name": "python3"
    },
    "language_info": {
      "name": "python",
      "version": "3.9.6"
    },
    "vscode": {
      "interpreter": {
        "hash": "31f2aee4e71d21fbe5cf8b01ff0e069b9275f58929596ceb00d14d90e3e16cd6"
      }
    }
  },
  "nbformat": 4,
  "nbformat_minor": 0
}
